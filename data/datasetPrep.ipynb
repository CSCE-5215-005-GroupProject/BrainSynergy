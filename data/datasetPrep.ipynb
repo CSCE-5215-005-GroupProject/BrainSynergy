{
  "cells": [
    {
      "cell_type": "code",
      "execution_count": 2,
      "metadata": {
        "id": "0PjVG8Z0QG2t"
      },
      "outputs": [],
      "source": [
        "import os\n",
        "import pandas as pd\n",
        "from sklearn.model_selection import train_test_split\n",
        "\n",
        "# Original dataset folder\n",
        "original_folder = '/content/drive/MyDrive/ML-GroupProject/Data'\n",
        "\n",
        "# New folders for Kaggle test set and the remaining data\n",
        "kaggle_test_folder = '/content/drive/MyDrive/ML-GroupProject/KaggleTest'\n",
        "remaining_data_folder = '/content/drive/MyDrive/ML-GroupProject/RemainingData'\n",
        "\n",
        "# Create new directories\n",
        "os.makedirs(kaggle_test_folder, exist_ok=True)\n",
        "os.makedirs(remaining_data_folder, exist_ok=True)\n",
        "\n",
        "# CSV file to hold the solution for Kaggle scoring\n",
        "solution_csv = []\n",
        "solution_csv_path = '/content/drive/MyDrive/ML-GroupProject/solution.csv'\n",
        "\n",
        "# Loop through each sub-folder (i.e., each class) in the original dataset\n",
        "for label in os.listdir(original_folder):\n",
        "    src_path = os.path.join(original_folder, label)\n",
        "\n",
        "    # Create a destination folder for each class in the Kaggle test folder and remaining data folder\n",
        "    dest_path_test = os.path.join(kaggle_test_folder, label)\n",
        "    dest_path_remaining = os.path.join(remaining_data_folder, label)\n",
        "\n",
        "    os.makedirs(dest_path_test, exist_ok=True)\n",
        "    os.makedirs(dest_path_remaining, exist_ok=True)\n",
        "\n",
        "    # Get all files in the source folder\n",
        "    files = [f for f in os.listdir(src_path) if os.path.isfile(os.path.join(src_path, f))]\n",
        "    labels = [label] * len(files)\n",
        "\n",
        "    # Stratified 80-20 split\n",
        "    remaining_files, test_files = train_test_split(files, test_size=0.2, random_state=42, stratify=labels)\n",
        "\n",
        "    # Move the files\n",
        "    for f in remaining_files:\n",
        "        os.rename(os.path.join(src_path, f), os.path.join(dest_path_remaining, f))\n",
        "\n",
        "    for f in test_files:\n",
        "        os.rename(os.path.join(src_path, f), os.path.join(dest_path_test, f))\n",
        "        solution_csv.append({'ID': f, 'Class': label, 'Usage': 'Private'})\n",
        "\n",
        "# Create the solution CSV file for Kaggle scoring\n",
        "df = pd.DataFrame(solution_csv)\n",
        "df.to_csv(solution_csv_path, index=False)\n"
      ]
    }
  ],
  "metadata": {
    "colab": {
      "provenance": []
    },
    "kernelspec": {
      "display_name": "Python 3",
      "name": "python3"
    },
    "language_info": {
      "name": "python"
    }
  },
  "nbformat": 4,
  "nbformat_minor": 0
}
