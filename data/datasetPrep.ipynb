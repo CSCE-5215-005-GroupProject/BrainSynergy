{
  "cells": [
    {
      "cell_type": "code",
      "execution_count": 1,
      "metadata": {
        "id": "0PjVG8Z0QG2t"
      },
      "outputs": [
        {
          "name": "stdout",
          "output_type": "stream",
          "text": [
            "Current Working Directory: f:\\Grad_School\\CSCE_5215\\GroupProject\\Git\\BrainSynergy\\data\n",
            "The folder original_dataset exists.\n"
          ]
        }
      ],
      "source": [
        "import os\n",
        "import pandas as pd\n",
        "import shutil   #for copying the files\n",
        "from sklearn.model_selection import train_test_split\n",
        "\n",
        "# Original dataset folder\n",
        "original_folder = r'original_dataset'  \n",
        "\n",
        "# New folders for Kaggle test set and the remaining data\n",
        "kaggle_test_folder = r'kaggle_solutionSet'\n",
        "remaining_data_folder = r'competition_data'\n",
        "\n",
        "# Create new directories\n",
        "os.makedirs(kaggle_test_folder, exist_ok=True)\n",
        "os.makedirs(remaining_data_folder, exist_ok=True)\n",
        "\n",
        "# CSV file to hold the solution for Kaggle scoring\n",
        "solution_csv = []\n",
        "solution_csv_path = 'solution.csv'\n",
        "\n",
        "# Check current working directory\n",
        "print(\"Current Working Directory:\", os.getcwd())\n",
        "\n",
        "# Check if 'original_folder' exists\n",
        "if os.path.exists(original_folder):\n",
        "    print(f\"The folder {original_folder} exists.\")\n",
        "else:\n",
        "    print(f\"The folder {original_folder} does not exist.\")\n",
        "\n",
        "# Loop through each sub-folder (i.e., each class) in the original dataset\n",
        "for label in os.listdir(original_folder):\n",
        "    src_path = os.path.join(original_folder, label)\n",
        "\n",
        "    # Create a destination folder for each class in the Kaggle test folder and remaining data folder\n",
        "    dest_path_test = os.path.join(kaggle_test_folder, label)\n",
        "    dest_path_remaining = os.path.join(remaining_data_folder, label)\n",
        "\n",
        "    os.makedirs(dest_path_test, exist_ok=True)\n",
        "    os.makedirs(dest_path_remaining, exist_ok=True)\n",
        "\n",
        "    # Get all files in the source folder\n",
        "    files = [f for f in os.listdir(src_path) if os.path.isfile(os.path.join(src_path, f))]\n",
        "    labels = [label] * len(files)\n",
        "\n",
        "    # Stratified 80-20 split\n",
        "    remaining_files, test_files = train_test_split(files, test_size=0.2, random_state=42, stratify=labels)\n",
        "\n",
        "    # Copy the files\n",
        "    for f in remaining_files:\n",
        "        shutil.copy(os.path.join(src_path, f), os.path.join(dest_path_remaining, f))\n",
        "\n",
        "    for f in test_files:\n",
        "        shutil.copy(os.path.join(src_path, f), os.path.join(dest_path_test, f))\n",
        "        solution_csv.append({'ID': f, 'Class': label, 'Usage': 'Public'})\n",
        "\n",
        "# Create dataframe for solution\n",
        "df = pd.DataFrame(solution_csv)\n",
        "# Shuffle the rows of the DataFrame\n",
        "df = df.sample(frac=1, random_state=42).reset_index(drop=True)\n",
        "# Create the solution CSV file for Kaggle scoring\n",
        "df.to_csv(solution_csv_path, index=False)\n",
        "\n",
        "\n"
      ]
    },
    {
      "cell_type": "markdown",
      "metadata": {},
      "source": [
        "Current solution set images contain class information in file name. Code below will reassign unique file names while masking associated class. Will also aggregate all files into one folder, instead of subfolders corresponding to each class."
      ]
    },
    {
      "cell_type": "code",
      "execution_count": 2,
      "metadata": {},
      "outputs": [],
      "source": [
        "# Load the current solution CSV\n",
        "df = pd.read_csv('solution.csv')\n",
        "\n",
        "# Flatten kaggle_solutionSet directory and obfuscate filenames\n",
        "counter = 1\n",
        "for label in os.listdir(original_folder):\n",
        "    class_folder_path = os.path.join(kaggle_test_folder, label)\n",
        "\n",
        "    for filename in os.listdir(class_folder_path):\n",
        "        old_filepath = os.path.join(class_folder_path, filename)\n",
        "        new_filename = f\"image_{counter}.jpg\"\n",
        "        new_filepath = os.path.join(kaggle_test_folder, new_filename)\n",
        "\n",
        "        # Move and rename the file\n",
        "        shutil.move(old_filepath, new_filepath)\n",
        "\n",
        "        # Update solution.csv\n",
        "        df.loc[df['ID'] == filename, 'ID'] = new_filename\n",
        "\n",
        "        counter += 1\n",
        "\n",
        "    # Remove the now-empty class subfolder\n",
        "    os.rmdir(class_folder_path)\n",
        "\n",
        "# Save the updated solution.csv\n",
        "df.to_csv('solution.csv', index=False)"
      ]
    },
    {
      "cell_type": "markdown",
      "metadata": {},
      "source": [
        "Code below will create *sandbox.csv* to test scoring metric on kaggle. \n",
        "\n",
        "*sandbox.csv* will be same format as *solution.csv*, but with randomized class labels. \n",
        "\n",
        "Will need to compare class columns of *sandbox.csv* & *solution.csv* to validate kaggle scoring metric  "
      ]
    },
    {
      "cell_type": "code",
      "execution_count": 9,
      "metadata": {},
      "outputs": [],
      "source": [
        "# Create dataframes\n",
        "solution_df = df\n",
        "randomized_class = df['Class'].sample(frac=1).reset_index(drop=True) #randomize class column\n",
        "\n",
        "sandbox_df = solution_df.copy()\n",
        "sandbox_df['Class'] = randomized_class\n",
        "\n",
        "# Drop the 'Usage' column\n",
        "sandbox_df = sandbox_df[['ID', 'Class']]\n",
        "\n",
        "# Export the randomized DataFrame to sandbox.csv\n",
        "sandbox_df.to_csv('sandbox.csv', index=False)"
      ]
    },
    {
      "cell_type": "markdown",
      "metadata": {},
      "source": [
        "*sandbox.csv*  Kaggle Score: 0.27053\n",
        "\n",
        "Being that there are 4 classes, this result seems reasonable as anywhere near 25% would account for random chance.\n",
        "\n",
        "Let us validate score anyway."
      ]
    },
    {
      "cell_type": "code",
      "execution_count": 10,
      "metadata": {},
      "outputs": [
        {
          "name": "stdout",
          "output_type": "stream",
          "text": [
            "Percentage of matching rows: 27.05%\n"
          ]
        }
      ],
      "source": [
        "# Compare the 'Class' columns\n",
        "matching_rows = (solution_df['Class'] == sandbox_df['Class']).sum()\n",
        "\n",
        "# Calculate the match percentage\n",
        "match_percentage = (matching_rows / len(solution_df)) * 100\n",
        "\n",
        "print(f\"Percentage of matching rows: {match_percentage:.2f}%\")"
      ]
    },
    {
      "cell_type": "markdown",
      "metadata": {},
      "source": [
        "Results validated!"
      ]
    }
  ],
  "metadata": {
    "colab": {
      "provenance": []
    },
    "kernelspec": {
      "display_name": "Python 3",
      "name": "python3"
    },
    "language_info": {
      "codemirror_mode": {
        "name": "ipython",
        "version": 3
      },
      "file_extension": ".py",
      "mimetype": "text/x-python",
      "name": "python",
      "nbconvert_exporter": "python",
      "pygments_lexer": "ipython3",
      "version": "3.11.4"
    }
  },
  "nbformat": 4,
  "nbformat_minor": 0
}
