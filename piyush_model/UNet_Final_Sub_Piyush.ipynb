{
  "nbformat": 4,
  "nbformat_minor": 0,
  "metadata": {
    "colab": {
      "provenance": [],
      "gpuType": "T4"
    },
    "kernelspec": {
      "name": "python3",
      "display_name": "Python 3"
    },
    "language_info": {
      "name": "python"
    },
    "accelerator": "GPU"
  },
  "cells": [
    {
      "cell_type": "code",
      "execution_count": 1,
      "metadata": {
        "id": "HxyqgKZIEpRO"
      },
      "outputs": [],
      "source": [
        "# import the necessary packages\n",
        "from torch.utils.data import Dataset\n",
        "from torch.nn import ConvTranspose2d\n",
        "from torch.nn import Conv2d\n",
        "from torch.nn import MaxPool2d\n",
        "from torch.nn import Module\n",
        "from torch.nn import ModuleList\n",
        "from torch.nn import ReLU\n",
        "from torchvision.transforms import CenterCrop\n",
        "from torch.optim import Adam\n",
        "from torch.utils.data import DataLoader\n",
        "from sklearn.model_selection import train_test_split\n",
        "from torchvision import transforms\n",
        "from imutils import paths\n",
        "from tqdm import tqdm\n",
        "from torch.nn import functional as F\n",
        "import matplotlib.pyplot as plt\n",
        "import numpy as np\n",
        "import torch\n",
        "import os\n",
        "import cv2\n",
        "import time\n",
        "from torchvision import transforms\n",
        "from torch import nn"
      ]
    },
    {
      "cell_type": "code",
      "source": [
        "from google.colab import drive\n",
        "drive.mount('/content/drive/')"
      ],
      "metadata": {
        "colab": {
          "base_uri": "https://localhost:8080/"
        },
        "id": "jSWrlbleS96K",
        "outputId": "99f28e36-5a78-4f58-a310-d2c99ca79d04"
      },
      "execution_count": 2,
      "outputs": [
        {
          "output_type": "stream",
          "name": "stdout",
          "text": [
            "Mounted at /content/drive/\n"
          ]
        }
      ]
    },
    {
      "cell_type": "code",
      "source": [
        "# Assuming 'base_dir' is the path to the directory containing your four folders\n",
        "base_dir = '/content/drive/MyDrive/MLProjectData/competition_data'\n",
        "classes = ['glioma_tumor', 'meningioma_tumor', 'normal', 'pituitary_tumor']\n",
        "\n",
        "# Create a list to hold file paths and labels\n",
        "image_paths = []\n",
        "image_labels = []\n",
        "\n",
        "# Map each class name to an integer label\n",
        "label_dict = {class_name: index for index, class_name in enumerate(classes)}\n",
        "\n",
        "# Go through each folder and add file paths and labels to the list\n",
        "for class_name in classes:\n",
        "    class_dir = os.path.join(base_dir, class_name)\n",
        "    for file_name in os.listdir(class_dir):\n",
        "        if file_name.endswith('.jpg'):\n",
        "            image_paths.append(os.path.join(class_dir, file_name))\n",
        "            image_labels.append(label_dict[class_name])\n"
      ],
      "metadata": {
        "id": "-beTMOkpN9Uz"
      },
      "execution_count": 3,
      "outputs": []
    },
    {
      "cell_type": "code",
      "source": [
        "len(image_paths)\n",
        "type(image_paths)"
      ],
      "metadata": {
        "colab": {
          "base_uri": "https://localhost:8080/"
        },
        "id": "NtUDToVqTXv_",
        "outputId": "4a57452e-5d24-4fd5-ddfe-d7baa7e7acb8"
      },
      "execution_count": 4,
      "outputs": [
        {
          "output_type": "execute_result",
          "data": {
            "text/plain": [
              "list"
            ]
          },
          "metadata": {},
          "execution_count": 4
        }
      ]
    },
    {
      "cell_type": "code",
      "source": [
        "len(image_labels)\n",
        "type(image_labels)"
      ],
      "metadata": {
        "colab": {
          "base_uri": "https://localhost:8080/"
        },
        "id": "XyKOPjw1EttY",
        "outputId": "6e851d1d-4d39-4924-c746-e39e550ae0bb"
      },
      "execution_count": 5,
      "outputs": [
        {
          "output_type": "execute_result",
          "data": {
            "text/plain": [
              "list"
            ]
          },
          "metadata": {},
          "execution_count": 5
        }
      ]
    },
    {
      "cell_type": "code",
      "source": [
        "trial_image = cv2.imread(image_paths[5])"
      ],
      "metadata": {
        "id": "VEszeb2xE5iP"
      },
      "execution_count": 6,
      "outputs": []
    },
    {
      "cell_type": "code",
      "source": [
        "trial_image.shape"
      ],
      "metadata": {
        "colab": {
          "base_uri": "https://localhost:8080/"
        },
        "id": "n4TLgKseFCc0",
        "outputId": "5370f498-717d-4a8f-f515-9035e3c517eb"
      },
      "execution_count": 7,
      "outputs": [
        {
          "output_type": "execute_result",
          "data": {
            "text/plain": [
              "(256, 256, 3)"
            ]
          },
          "metadata": {},
          "execution_count": 7
        }
      ]
    },
    {
      "cell_type": "code",
      "source": [
        "plt.imshow(trial_image)"
      ],
      "metadata": {
        "colab": {
          "base_uri": "https://localhost:8080/",
          "height": 452
        },
        "id": "QA3hXuF6FbX-",
        "outputId": "8acfcf78-5980-475f-d666-9be01bcb18be"
      },
      "execution_count": 8,
      "outputs": [
        {
          "output_type": "execute_result",
          "data": {
            "text/plain": [
              "<matplotlib.image.AxesImage at 0x797665134a90>"
            ]
          },
          "metadata": {},
          "execution_count": 8
        },
        {
          "output_type": "display_data",
          "data": {
            "text/plain": [
              "<Figure size 640x480 with 1 Axes>"
            ],
            "image/png": "[encoded data removed]"
          },
          "metadata": {}
        }
      ]
    },
    {
      "cell_type": "code",
      "source": [
        "class Configuration:\n",
        "\n",
        "    TEST_SPLIT = 0.1\n",
        "\n",
        "    device = \"cuda\" if torch.cuda.is_available() else \"cpu\"\n",
        "\n",
        "    PIN_MEMORY = True if device == \"cuda\" else False\n",
        "\n",
        "    NUM_CHANNELS = 3  # Number of channels in the image\n",
        "    NUM_CLASSES = 4   # Number of classes for classification\n",
        "    NUM_LEVELS = 3    # Depth of the UNet\n",
        "\n",
        "\n",
        "    INIT_LR = 0.0001  # Initial learning rate\n",
        "    NUM_EPOCHS = 40   # Number of epochs\n",
        "    BATCH_SIZE = 32   # Number of samples in a batch\n",
        "\n",
        "    INPUT_IMAGE_WIDTH = 256\n",
        "    INPUT_IMAGE_HEIGHT = 256\n",
        "\n",
        "    THRESHOLD = 0.5\n",
        "\n",
        "configuration = Configuration()"
      ],
      "metadata": {
        "id": "gfxPEkUIEvcv"
      },
      "execution_count": 9,
      "outputs": []
    },
    {
      "cell_type": "code",
      "source": [
        "class Segmentation(Dataset):\n",
        "\tdef __init__(self, image_paths, labels, transforms):\n",
        "\n",
        "\t\tself.image_paths = image_paths\n",
        "\t\tself.labels = image_labels\n",
        "\t\tself.transforms = transforms\n",
        "\n",
        "\tdef __len__(self):\n",
        "\t\treturn len(self.image_paths)\n",
        "\n",
        "\tdef __getitem__(self, idx):\n",
        "\t\timagePath = self.image_paths[idx]\n",
        "\n",
        "\t\timage = cv2.imread(imagePath)\n",
        "\t\t# image = cv2.cvtColor(image, cv2.COLOR_BGR2RGB)\n",
        "\t\tlabel = self.labels[idx]\n",
        "\n",
        "\t\tif self.transforms is not None:\n",
        "\t\t\t# apply the transformations to image\n",
        "\t\t\timage = self.transforms(image)\n",
        "\n",
        "\t\treturn (image, label)"
      ],
      "metadata": {
        "id": "gdIJXSibHUad"
      },
      "execution_count": 10,
      "outputs": []
    },
    {
      "cell_type": "code",
      "source": [
        "class Block(Module):\n",
        "\tdef __init__(self, inChannels, outChannels):\n",
        "\t\tsuper().__init__()\n",
        "\t\tself.conv1 = Conv2d(inChannels, outChannels, 3)\n",
        "\t\tself.relu = ReLU()\n",
        "\t\tself.conv2 = Conv2d(outChannels, outChannels, 3)\n",
        "\n",
        "\tdef forward(self, x):\n",
        "\t\tx = self.conv1(x)\n",
        "\t\tx = self.relu(x)\n",
        "\t\tx = self.conv2(x)\n",
        "\t\treturn x\n",
        "\t\t# return self.conv2(self.relu(self.conv1(x)))"
      ],
      "metadata": {
        "id": "IOR7wouZEvX1"
      },
      "execution_count": 11,
      "outputs": []
    },
    {
      "cell_type": "code",
      "source": [
        "class encoderBlock(Module):\n",
        "\tdef __init__(self, channels=(3, 16, 32, 64)):\n",
        "\t\tsuper().__init__()\n",
        "\n",
        "\t\tself.encBlocks = ModuleList(\n",
        "\t\t\t[Block(channels[i], channels[i + 1])\n",
        "\t\t\t \tfor i in range(len(channels) - 1)])\n",
        "\t\tself.pool = MaxPool2d(2)\n",
        "\n",
        "\tdef forward(self, x):\n",
        "\n",
        "\t\tblockOutputs = []\n",
        "\n",
        "\n",
        "\t\tfor block in self.encBlocks:\n",
        "\n",
        "\t\t\tx = block(x)\n",
        "\t\t\tblockOutputs.append(x)\n",
        "\t\t\tx = self.pool(x)\n",
        "\n",
        "\n",
        "\t\treturn blockOutputs"
      ],
      "metadata": {
        "id": "iVB89ABEFiXM"
      },
      "execution_count": 12,
      "outputs": []
    },
    {
      "cell_type": "code",
      "source": [
        "class decoderBlock(Module):\n",
        "\tdef __init__(self, channels=(64, 32, 16)):\n",
        "\t\tsuper().__init__()\n",
        "\t\tself.channels = channels\n",
        "\t\tself.upconvs = ModuleList(\n",
        "\t\t\t[ConvTranspose2d(channels[i], channels[i + 1], 2, 2)\n",
        "\t\t\t \tfor i in range(len(channels) - 1)])\n",
        "\t\tself.dec_blocks = ModuleList(\n",
        "\t\t\t[Block(channels[i], channels[i + 1])\n",
        "\t\t\t \tfor i in range(len(channels) - 1)])\n",
        "\n",
        "\tdef forward(self, x, encFeatures):\n",
        "\n",
        "\t\tfor i in range(len(self.channels) - 1):\n",
        "\n",
        "\t\t\tx = self.upconvs[i](x)\n",
        "\n",
        "\n",
        "\t\t\tencFeat = self.crop(encFeatures[i], x)\n",
        "\t\t\tx = torch.cat([x, encFeat], dim=1)\n",
        "\t\t\tx = self.dec_blocks[i](x)\n",
        "\n",
        "\n",
        "\t\treturn x\n",
        "\n",
        "\tdef crop(self, encFeatures, x):\n",
        "\n",
        "\t\t(_, _, H, W) = x.shape\n",
        "\t\tencFeatures = CenterCrop([H, W])(encFeatures)\n",
        "\n",
        "\n",
        "\t\treturn encFeatures"
      ],
      "metadata": {
        "id": "-3M_8wkdFiUp"
      },
      "execution_count": 13,
      "outputs": []
    },
    {
      "cell_type": "code",
      "source": [
        "class UNet(Module):\n",
        "  def __init__(self, encChannels = (3, 16, 32, 64), decChannels = (64, 32, 16), nbClasses = 4, retainDim = True, outSize=(configuration.INPUT_IMAGE_HEIGHT,  configuration.INPUT_IMAGE_WIDTH)):\n",
        "    super().__init__()\n",
        "\n",
        "    self.encoder = encoderBlock(encChannels)\n",
        "    self.decoder = decoderBlock(decChannels)\n",
        "\n",
        "\n",
        "    self.head = self.head = nn.Sequential(\n",
        "        nn.AdaptiveAvgPool2d(1),  # Global Average Pooling\n",
        "        nn.Flatten(),  # Flatten the output\n",
        "        nn.Linear(decChannels[-1], nbClasses))\n",
        "    self.retainDim = retainDim\n",
        "    self.outSize = outSize\n",
        "\n",
        "  def forward(self, x):\n",
        "    encFeatures = self.encoder(x)\n",
        "    decFeatures = self.decoder(encFeatures[::-1][0], encFeatures[::-1][1:])\n",
        "\n",
        "\n",
        "    class_scores = self.head(decFeatures)\n",
        "\n",
        "    return class_scores\n",
        "\n",
        "\n",
        "\n"
      ],
      "metadata": {
        "id": "Qh84HuXTbjJO"
      },
      "execution_count": 14,
      "outputs": []
    },
    {
      "cell_type": "markdown",
      "source": [
        "### Define the data pipeline"
      ],
      "metadata": {
        "id": "cyi8vj5OO0Lm"
      }
    },
    {
      "cell_type": "code",
      "source": [
        "split = train_test_split(image_paths, image_labels,\n",
        "\ttest_size=configuration.TEST_SPLIT, random_state=42)"
      ],
      "metadata": {
        "id": "2UE0vJlkH6N8"
      },
      "execution_count": 15,
      "outputs": []
    },
    {
      "cell_type": "code",
      "source": [
        "(trainImages, testImages) = split[:2]\n",
        "(trainLabels, testLabels) = split[2:]"
      ],
      "metadata": {
        "id": "EbNQAC7XH-ZA"
      },
      "execution_count": 16,
      "outputs": []
    },
    {
      "cell_type": "code",
      "source": [
        "trainDS = Segmentation(image_paths=trainImages, labels=trainLabels,\n",
        "\ttransforms=transforms)"
      ],
      "metadata": {
        "id": "hTgKJq__Jrb4"
      },
      "execution_count": 17,
      "outputs": []
    },
    {
      "cell_type": "code",
      "source": [
        "len(trainDS)"
      ],
      "metadata": {
        "colab": {
          "base_uri": "https://localhost:8080/"
        },
        "id": "4hjEx9NGJzXk",
        "outputId": "88909dcf-4172-43f1-8933-67b2bf9e872f"
      },
      "execution_count": 18,
      "outputs": [
        {
          "output_type": "execute_result",
          "data": {
            "text/plain": [
              "2227"
            ]
          },
          "metadata": {},
          "execution_count": 18
        }
      ]
    },
    {
      "cell_type": "code",
      "source": [
        "from torchvision import transforms\n",
        "from torch import nn\n",
        "\n",
        "\n",
        "# partition the data into training and testing splits using 80% of\n",
        "# the data for training and the remaining 20% for testing\n",
        "split = train_test_split(image_paths, image_labels,\n",
        "\ttest_size=Configuration.TEST_SPLIT, random_state=42)\n",
        "\n",
        "# unpack the data split\n",
        "(trainImages, testImages) = split[:2]\n",
        "(trainLabels, testLabels) = split[2:]\n",
        "\n",
        "\n",
        "# define transformations\n",
        "transforms = transforms.Compose([transforms.ToPILImage(),\n",
        " \ttransforms.Resize((Configuration.INPUT_IMAGE_HEIGHT,\n",
        "\t\tConfiguration.INPUT_IMAGE_WIDTH)),\n",
        "\ttransforms.ToTensor()])\n",
        "\n",
        "# create the train and test datasets\n",
        "trainDS = Segmentation(image_paths=trainImages, labels=trainLabels,\n",
        "\ttransforms=transforms)\n",
        "testDS = Segmentation(image_paths=testImages, labels=testLabels,\n",
        "    transforms=transforms)\n",
        "print(f\"[INFO] found {len(trainDS)} examples in the training set...\")\n",
        "print(f\"[INFO] found {len(testDS)} examples in the test set...\")\n",
        "\n",
        "# create the training and test data loaders\n",
        "trainLoader = DataLoader(trainDS, shuffle=True,\n",
        "\tbatch_size=Configuration.BATCH_SIZE, pin_memory=Configuration.PIN_MEMORY,\n",
        "\tnum_workers=os.cpu_count())\n",
        "testLoader = DataLoader(testDS, shuffle=False,\n",
        "\tbatch_size=Configuration.BATCH_SIZE, pin_memory=Configuration.PIN_MEMORY,\n",
        "\tnum_workers=os.cpu_count())"
      ],
      "metadata": {
        "colab": {
          "base_uri": "https://localhost:8080/"
        },
        "id": "aNrWRbQ3FiRl",
        "outputId": "40112ded-538f-415c-bdae-e49079db4ba0"
      },
      "execution_count": 19,
      "outputs": [
        {
          "output_type": "stream",
          "name": "stdout",
          "text": [
            "[INFO] found 2227 examples in the training set...\n",
            "[INFO] found 248 examples in the test set...\n"
          ]
        }
      ]
    },
    {
      "cell_type": "markdown",
      "source": [
        "### Train the model"
      ],
      "metadata": {
        "id": "FtyDUFk2PFaj"
      }
    },
    {
      "cell_type": "code",
      "source": [
        "# initialize our UNet model\n",
        "unet = UNet().to(configuration.device)\n",
        "\n",
        "lossFunc = nn.CrossEntropyLoss()    # CrossEntropy as it is a multi class classificiation\n",
        "opt = Adam(unet.parameters(), lr=configuration.INIT_LR)\n",
        "\n",
        "\n",
        "trainSteps = len(trainDS) // configuration.BATCH_SIZE\n",
        "testSteps = len(testDS) // configuration.BATCH_SIZE\n",
        "best_val_loss = float('inf')\n",
        "best_epoch = 0\n",
        "best_model_path_1 = '/content/drive/MyDrive/MLProjectData/unet_best_model.pth'\n",
        "\n",
        "H = {\"train_loss\": [], \"test_loss\": [], \"train_acc\": [], \"test_acc\": []}\n",
        "\n",
        "\n",
        "print(\"Training starts here for the network ...\")\n",
        "startTime = time.time()\n",
        "for e in tqdm(range(configuration.NUM_EPOCHS)):\n",
        "\n",
        "\tunet.train()\n",
        "\n",
        "\n",
        "\ttotalTrainLoss = 0\n",
        "\ttotalTestLoss = 0\n",
        "\ttrainCorrect = 0\n",
        "\ttrainTotal = 0\n",
        "\ttestCorrect = 0\n",
        "\ttestTotal = 0\n",
        "\n",
        "\n",
        "\tfor (i, (x, y)) in enumerate(trainLoader):\n",
        "\n",
        "\t\t(x, y) = (x.to(configuration.device), y.to(configuration.device))\n",
        "\n",
        "\t\tpred = unet(x)\n",
        "\t\tloss = lossFunc(pred, y.long())\n",
        "\n",
        "\n",
        "\t\t_, predictions = torch.max(pred, 1)\n",
        "\t\ttrainCorrect += (predictions == y).sum().item()\n",
        "\t\ttrainTotal += y.size(0)\n",
        "\n",
        "\n",
        "\t\topt.zero_grad()\n",
        "\t\tloss.backward()\n",
        "\t\topt.step()\n",
        "\n",
        "\t\ttotalTrainLoss += loss\n",
        "\n",
        "\ttrainAcc = trainCorrect / trainTotal\n",
        "\tH[\"train_acc\"].append(trainAcc)\n",
        "\n",
        "\twith torch.no_grad():\n",
        "\n",
        "\t\tunet.eval()\n",
        "\n",
        "\t\tfor (x, y) in testLoader:\n",
        "\t\t\t(x, y) = (x.to(configuration.device), y.to(configuration.device))\n",
        "\n",
        "\t\t\tpred = unet(x)\n",
        "\t\t\ttotalTestLoss += lossFunc(pred, y)\n",
        "\n",
        "\t\t\t_, predictions = torch.max(pred, 1)\n",
        "\t\t\ttestCorrect += (predictions == y).sum().item()\n",
        "\t\t\ttestTotal += y.size(0)\n",
        "\n",
        "\ttestAcc = testCorrect / testTotal\n",
        "\tH[\"test_acc\"].append(testAcc)\n",
        "\n",
        "\tavgTrainLoss = totalTrainLoss / trainSteps\n",
        "\tavgTestLoss = totalTestLoss / testSteps\n",
        "\n",
        "\n",
        "\tH[\"train_loss\"].append(avgTrainLoss.cpu().detach().numpy())\n",
        "\tH[\"test_loss\"].append(avgTestLoss.cpu().detach().numpy())\n",
        "\n",
        "\n",
        "\tprint(\"[INFO] EPOCH: {}/{}\".format(e + 1, Configuration.NUM_EPOCHS))\n",
        "\tprint(\"Train loss: {:.6f}, Test loss: {:.4f}\".format(\n",
        "\t\tavgTrainLoss, avgTestLoss))\n",
        "\tavgTestLoss = totalTestLoss / testSteps\n",
        "\tif avgTestLoss < best_val_loss:\n",
        "\t\tprint(f\"New best model found at epoch {e+1} with test loss {avgTestLoss:.4f}\")\n",
        "\t\tbest_val_loss = avgTestLoss\n",
        "\t\tbest_epoch = e + 1\n",
        "\t\t# best_model_save_path = os.path.join('/content/drive/MyDrive/MLProjectData', f'unet_best_model_epoch_{best_epoch}.pth')\n",
        "\t\ttorch.save(unet.state_dict(), best_model_path_1)\n",
        "\n",
        "\tprint(f\"Train accuracy: {trainAcc:.4f}, Test accuracy: {testAcc:.4f}\")\n",
        "\n",
        "endTime = time.time()\n",
        "print(\"Time taken to train the model: {:.2f}s\".format(\n",
        "\tendTime - startTime))\n",
        "\n",
        "# plot the training loss and accuracy\n",
        "plt.style.use(\"ggplot\")\n",
        "plt.figure()\n",
        "plt.plot(H[\"train_loss\"], label=\"train_loss\")\n",
        "plt.plot(H[\"test_loss\"], label=\"test_loss\")\n",
        "plt.title(\"Training Loss on Dataset\")\n",
        "plt.xlabel(\"Epoch #\")\n",
        "plt.ylabel(\"Loss\")\n",
        "plt.legend(loc=\"lower left\")\n",
        "\n"
      ],
      "metadata": {
        "colab": {
          "base_uri": "https://localhost:8080/",
          "height": 1000
        },
        "id": "Bv1FrTwzFiP2",
        "outputId": "b7db1189-bf88-418d-976a-fc8be799ff29"
      },
      "execution_count": 20,
      "outputs": [
        {
          "output_type": "stream",
          "name": "stdout",
          "text": [
            "Training starts here for the network ...\n"
          ]
        },
        {
          "output_type": "stream",
          "name": "stderr",
          "text": [
            "\r  0%|          | 0/40 [00:00<?, ?it/s]"
          ]
        },
        {
          "output_type": "stream",
          "name": "stdout",
          "text": [
            "[INFO] EPOCH: 1/40\n",
            "Train loss: 1.380173, Test loss: 1.1498\n",
            "New best model found at epoch 1 with test loss 1.1498\n"
          ]
        },
        {
          "output_type": "stream",
          "name": "stderr",
          "text": [
            "\r  2%|▎         | 1/40 [02:52<1:52:12, 172.62s/it]"
          ]
        },
        {
          "output_type": "stream",
          "name": "stdout",
          "text": [
            "Train accuracy: 0.3251, Test accuracy: 1.0000\n"
          ]
        },
        {
          "output_type": "stream",
          "name": "stderr",
          "text": [
            "\r  5%|▌         | 2/40 [03:06<50:13, 79.29s/it]   "
          ]
        },
        {
          "output_type": "stream",
          "name": "stdout",
          "text": [
            "[INFO] EPOCH: 2/40\n",
            "Train loss: 1.361259, Test loss: 1.3331\n",
            "Train accuracy: 0.3318, Test accuracy: 0.0645\n"
          ]
        },
        {
          "output_type": "stream",
          "name": "stderr",
          "text": [
            "\r  8%|▊         | 3/40 [03:20<30:24, 49.31s/it]"
          ]
        },
        {
          "output_type": "stream",
          "name": "stdout",
          "text": [
            "[INFO] EPOCH: 3/40\n",
            "Train loss: 1.360780, Test loss: 1.2791\n",
            "Train accuracy: 0.3233, Test accuracy: 0.4073\n"
          ]
        },
        {
          "output_type": "stream",
          "name": "stderr",
          "text": [
            "\r 10%|█         | 4/40 [03:34<21:10, 35.29s/it]"
          ]
        },
        {
          "output_type": "stream",
          "name": "stdout",
          "text": [
            "[INFO] EPOCH: 4/40\n",
            "Train loss: 1.359420, Test loss: 1.2738\n",
            "Train accuracy: 0.3130, Test accuracy: 0.5403\n"
          ]
        },
        {
          "output_type": "stream",
          "name": "stderr",
          "text": [
            "\r 12%|█▎        | 5/40 [03:47<16:02, 27.51s/it]"
          ]
        },
        {
          "output_type": "stream",
          "name": "stdout",
          "text": [
            "[INFO] EPOCH: 5/40\n",
            "Train loss: 1.360388, Test loss: 1.2719\n",
            "Train accuracy: 0.3175, Test accuracy: 0.5000\n"
          ]
        },
        {
          "output_type": "stream",
          "name": "stderr",
          "text": [
            "\r 15%|█▌        | 6/40 [04:01<12:58, 22.88s/it]"
          ]
        },
        {
          "output_type": "stream",
          "name": "stdout",
          "text": [
            "[INFO] EPOCH: 6/40\n",
            "Train loss: 1.359839, Test loss: 1.2948\n",
            "Train accuracy: 0.3345, Test accuracy: 0.1331\n"
          ]
        },
        {
          "output_type": "stream",
          "name": "stderr",
          "text": [
            "\r 18%|█▊        | 7/40 [04:16<11:11, 20.34s/it]"
          ]
        },
        {
          "output_type": "stream",
          "name": "stdout",
          "text": [
            "[INFO] EPOCH: 7/40\n",
            "Train loss: 1.359097, Test loss: 1.3534\n",
            "Train accuracy: 0.3053, Test accuracy: 0.0000\n"
          ]
        },
        {
          "output_type": "stream",
          "name": "stderr",
          "text": [
            "\r 20%|██        | 8/40 [04:30<09:44, 18.26s/it]"
          ]
        },
        {
          "output_type": "stream",
          "name": "stdout",
          "text": [
            "[INFO] EPOCH: 8/40\n",
            "Train loss: 1.359529, Test loss: 1.2266\n",
            "Train accuracy: 0.3161, Test accuracy: 1.0000\n"
          ]
        },
        {
          "output_type": "stream",
          "name": "stderr",
          "text": [
            "\r 22%|██▎       | 9/40 [04:44<08:40, 16.80s/it]"
          ]
        },
        {
          "output_type": "stream",
          "name": "stdout",
          "text": [
            "[INFO] EPOCH: 9/40\n",
            "Train loss: 1.358841, Test loss: 1.2641\n",
            "Train accuracy: 0.3260, Test accuracy: 0.9798\n"
          ]
        },
        {
          "output_type": "stream",
          "name": "stderr",
          "text": [
            "\r 25%|██▌       | 10/40 [04:57<07:56, 15.88s/it]"
          ]
        },
        {
          "output_type": "stream",
          "name": "stdout",
          "text": [
            "[INFO] EPOCH: 10/40\n",
            "Train loss: 1.358434, Test loss: 1.3706\n",
            "Train accuracy: 0.3184, Test accuracy: 0.0000\n"
          ]
        },
        {
          "output_type": "stream",
          "name": "stderr",
          "text": [
            "\r 28%|██▊       | 11/40 [05:11<07:20, 15.18s/it]"
          ]
        },
        {
          "output_type": "stream",
          "name": "stdout",
          "text": [
            "[INFO] EPOCH: 11/40\n",
            "Train loss: 1.358871, Test loss: 1.2516\n",
            "Train accuracy: 0.3287, Test accuracy: 1.0000\n"
          ]
        },
        {
          "output_type": "stream",
          "name": "stderr",
          "text": [
            "\r 30%|███       | 12/40 [05:25<06:54, 14.80s/it]"
          ]
        },
        {
          "output_type": "stream",
          "name": "stdout",
          "text": [
            "[INFO] EPOCH: 12/40\n",
            "Train loss: 1.358884, Test loss: 1.3235\n",
            "Train accuracy: 0.3215, Test accuracy: 0.0000\n"
          ]
        },
        {
          "output_type": "stream",
          "name": "stderr",
          "text": [
            "\r 32%|███▎      | 13/40 [05:39<06:32, 14.52s/it]"
          ]
        },
        {
          "output_type": "stream",
          "name": "stdout",
          "text": [
            "[INFO] EPOCH: 13/40\n",
            "Train loss: 1.358410, Test loss: 1.2724\n",
            "Train accuracy: 0.3202, Test accuracy: 0.8629\n"
          ]
        },
        {
          "output_type": "stream",
          "name": "stderr",
          "text": [
            "\r 35%|███▌      | 14/40 [05:53<06:14, 14.39s/it]"
          ]
        },
        {
          "output_type": "stream",
          "name": "stdout",
          "text": [
            "[INFO] EPOCH: 14/40\n",
            "Train loss: 1.358545, Test loss: 1.2979\n",
            "Train accuracy: 0.3251, Test accuracy: 0.0685\n"
          ]
        },
        {
          "output_type": "stream",
          "name": "stderr",
          "text": [
            "\r 38%|███▊      | 15/40 [06:07<05:56, 14.26s/it]"
          ]
        },
        {
          "output_type": "stream",
          "name": "stdout",
          "text": [
            "[INFO] EPOCH: 15/40\n",
            "Train loss: 1.358105, Test loss: 1.2839\n",
            "Train accuracy: 0.3269, Test accuracy: 0.3790\n"
          ]
        },
        {
          "output_type": "stream",
          "name": "stderr",
          "text": [
            "\r 40%|████      | 16/40 [06:21<05:40, 14.18s/it]"
          ]
        },
        {
          "output_type": "stream",
          "name": "stdout",
          "text": [
            "[INFO] EPOCH: 16/40\n",
            "Train loss: 1.356976, Test loss: 1.2097\n",
            "Train accuracy: 0.3327, Test accuracy: 0.9677\n"
          ]
        },
        {
          "output_type": "stream",
          "name": "stderr",
          "text": [
            "\r 42%|████▎     | 17/40 [06:35<05:23, 14.06s/it]"
          ]
        },
        {
          "output_type": "stream",
          "name": "stdout",
          "text": [
            "[INFO] EPOCH: 17/40\n",
            "Train loss: 1.357488, Test loss: 1.3007\n",
            "Train accuracy: 0.3166, Test accuracy: 0.1935\n"
          ]
        },
        {
          "output_type": "stream",
          "name": "stderr",
          "text": [
            "\r 45%|████▌     | 18/40 [06:49<05:08, 14.03s/it]"
          ]
        },
        {
          "output_type": "stream",
          "name": "stdout",
          "text": [
            "[INFO] EPOCH: 18/40\n",
            "Train loss: 1.357802, Test loss: 1.3277\n",
            "Train accuracy: 0.3166, Test accuracy: 0.0121\n"
          ]
        },
        {
          "output_type": "stream",
          "name": "stderr",
          "text": [
            "\r 48%|████▊     | 19/40 [07:03<04:54, 14.02s/it]"
          ]
        },
        {
          "output_type": "stream",
          "name": "stdout",
          "text": [
            "[INFO] EPOCH: 19/40\n",
            "Train loss: 1.358008, Test loss: 1.3074\n",
            "Train accuracy: 0.3256, Test accuracy: 0.1290\n"
          ]
        },
        {
          "output_type": "stream",
          "name": "stderr",
          "text": [
            "\r 50%|█████     | 20/40 [07:17<04:39, 14.00s/it]"
          ]
        },
        {
          "output_type": "stream",
          "name": "stdout",
          "text": [
            "[INFO] EPOCH: 20/40\n",
            "Train loss: 1.357648, Test loss: 1.3257\n",
            "Train accuracy: 0.3220, Test accuracy: 0.0403\n"
          ]
        },
        {
          "output_type": "stream",
          "name": "stderr",
          "text": [
            "\r 52%|█████▎    | 21/40 [07:31<04:25, 14.00s/it]"
          ]
        },
        {
          "output_type": "stream",
          "name": "stdout",
          "text": [
            "[INFO] EPOCH: 21/40\n",
            "Train loss: 1.357025, Test loss: 1.2740\n",
            "Train accuracy: 0.3309, Test accuracy: 0.6573\n"
          ]
        },
        {
          "output_type": "stream",
          "name": "stderr",
          "text": [
            "\r 55%|█████▌    | 22/40 [07:45<04:12, 14.02s/it]"
          ]
        },
        {
          "output_type": "stream",
          "name": "stdout",
          "text": [
            "[INFO] EPOCH: 22/40\n",
            "Train loss: 1.357046, Test loss: 1.2669\n",
            "Train accuracy: 0.3193, Test accuracy: 0.7379\n"
          ]
        },
        {
          "output_type": "stream",
          "name": "stderr",
          "text": [
            "\r 57%|█████▊    | 23/40 [07:58<03:56, 13.92s/it]"
          ]
        },
        {
          "output_type": "stream",
          "name": "stdout",
          "text": [
            "[INFO] EPOCH: 23/40\n",
            "Train loss: 1.357338, Test loss: 1.2006\n",
            "Train accuracy: 0.3170, Test accuracy: 0.9355\n"
          ]
        },
        {
          "output_type": "stream",
          "name": "stderr",
          "text": [
            "\r 60%|██████    | 24/40 [08:12<03:42, 13.88s/it]"
          ]
        },
        {
          "output_type": "stream",
          "name": "stdout",
          "text": [
            "[INFO] EPOCH: 24/40\n",
            "Train loss: 1.357521, Test loss: 1.3307\n",
            "Train accuracy: 0.3395, Test accuracy: 0.0282\n"
          ]
        },
        {
          "output_type": "stream",
          "name": "stderr",
          "text": [
            "\r 62%|██████▎   | 25/40 [08:26<03:29, 13.94s/it]"
          ]
        },
        {
          "output_type": "stream",
          "name": "stdout",
          "text": [
            "[INFO] EPOCH: 25/40\n",
            "Train loss: 1.357057, Test loss: 1.3386\n",
            "Train accuracy: 0.3296, Test accuracy: 0.0484\n"
          ]
        },
        {
          "output_type": "stream",
          "name": "stderr",
          "text": [
            "\r 65%|██████▌   | 26/40 [08:40<03:14, 13.92s/it]"
          ]
        },
        {
          "output_type": "stream",
          "name": "stdout",
          "text": [
            "[INFO] EPOCH: 26/40\n",
            "Train loss: 1.357824, Test loss: 1.3308\n",
            "Train accuracy: 0.3175, Test accuracy: 0.0726\n"
          ]
        },
        {
          "output_type": "stream",
          "name": "stderr",
          "text": [
            "\r 68%|██████▊   | 27/40 [08:54<03:01, 13.96s/it]"
          ]
        },
        {
          "output_type": "stream",
          "name": "stdout",
          "text": [
            "[INFO] EPOCH: 27/40\n",
            "Train loss: 1.357224, Test loss: 1.3069\n",
            "Train accuracy: 0.3305, Test accuracy: 0.2621\n"
          ]
        },
        {
          "output_type": "stream",
          "name": "stderr",
          "text": [
            "\r 70%|███████   | 28/40 [09:08<02:47, 13.97s/it]"
          ]
        },
        {
          "output_type": "stream",
          "name": "stdout",
          "text": [
            "[INFO] EPOCH: 28/40\n",
            "Train loss: 1.356913, Test loss: 1.2945\n",
            "Train accuracy: 0.3318, Test accuracy: 0.4073\n"
          ]
        },
        {
          "output_type": "stream",
          "name": "stderr",
          "text": [
            "\r 72%|███████▎  | 29/40 [09:22<02:32, 13.87s/it]"
          ]
        },
        {
          "output_type": "stream",
          "name": "stdout",
          "text": [
            "[INFO] EPOCH: 29/40\n",
            "Train loss: 1.357613, Test loss: 1.2800\n",
            "Train accuracy: 0.3273, Test accuracy: 0.5726\n"
          ]
        },
        {
          "output_type": "stream",
          "name": "stderr",
          "text": [
            "\r 75%|███████▌  | 30/40 [09:36<02:18, 13.84s/it]"
          ]
        },
        {
          "output_type": "stream",
          "name": "stdout",
          "text": [
            "[INFO] EPOCH: 30/40\n",
            "Train loss: 1.357108, Test loss: 1.2940\n",
            "Train accuracy: 0.3327, Test accuracy: 0.5242\n"
          ]
        },
        {
          "output_type": "stream",
          "name": "stderr",
          "text": [
            "\r 78%|███████▊  | 31/40 [09:50<02:05, 13.90s/it]"
          ]
        },
        {
          "output_type": "stream",
          "name": "stdout",
          "text": [
            "[INFO] EPOCH: 31/40\n",
            "Train loss: 1.357195, Test loss: 1.3069\n",
            "Train accuracy: 0.3377, Test accuracy: 0.3387\n"
          ]
        },
        {
          "output_type": "stream",
          "name": "stderr",
          "text": [
            "\r 80%|████████  | 32/40 [10:03<01:50, 13.84s/it]"
          ]
        },
        {
          "output_type": "stream",
          "name": "stdout",
          "text": [
            "[INFO] EPOCH: 32/40\n",
            "Train loss: 1.357460, Test loss: 1.2892\n",
            "Train accuracy: 0.3354, Test accuracy: 0.5484\n"
          ]
        },
        {
          "output_type": "stream",
          "name": "stderr",
          "text": [
            "\r 82%|████████▎ | 33/40 [10:17<01:36, 13.79s/it]"
          ]
        },
        {
          "output_type": "stream",
          "name": "stdout",
          "text": [
            "[INFO] EPOCH: 33/40\n",
            "Train loss: 1.356351, Test loss: 1.2947\n",
            "Train accuracy: 0.3314, Test accuracy: 0.3992\n"
          ]
        },
        {
          "output_type": "stream",
          "name": "stderr",
          "text": [
            "\r 85%|████████▌ | 34/40 [10:31<01:23, 13.89s/it]"
          ]
        },
        {
          "output_type": "stream",
          "name": "stdout",
          "text": [
            "[INFO] EPOCH: 34/40\n",
            "Train loss: 1.356510, Test loss: 1.3957\n",
            "Train accuracy: 0.3435, Test accuracy: 0.0000\n"
          ]
        },
        {
          "output_type": "stream",
          "name": "stderr",
          "text": [
            "\r 88%|████████▊ | 35/40 [10:45<01:09, 13.90s/it]"
          ]
        },
        {
          "output_type": "stream",
          "name": "stdout",
          "text": [
            "[INFO] EPOCH: 35/40\n",
            "Train loss: 1.357062, Test loss: 1.2967\n",
            "Train accuracy: 0.3206, Test accuracy: 0.3589\n"
          ]
        },
        {
          "output_type": "stream",
          "name": "stderr",
          "text": [
            "\r 90%|█████████ | 36/40 [10:59<00:55, 13.85s/it]"
          ]
        },
        {
          "output_type": "stream",
          "name": "stdout",
          "text": [
            "[INFO] EPOCH: 36/40\n",
            "Train loss: 1.357106, Test loss: 1.3150\n",
            "Train accuracy: 0.3341, Test accuracy: 0.1774\n"
          ]
        },
        {
          "output_type": "stream",
          "name": "stderr",
          "text": [
            "\r 92%|█████████▎| 37/40 [11:13<00:41, 13.90s/it]"
          ]
        },
        {
          "output_type": "stream",
          "name": "stdout",
          "text": [
            "[INFO] EPOCH: 37/40\n",
            "Train loss: 1.357527, Test loss: 1.2089\n",
            "Train accuracy: 0.3300, Test accuracy: 0.9153\n"
          ]
        },
        {
          "output_type": "stream",
          "name": "stderr",
          "text": [
            "\r 95%|█████████▌| 38/40 [11:27<00:27, 13.96s/it]"
          ]
        },
        {
          "output_type": "stream",
          "name": "stdout",
          "text": [
            "[INFO] EPOCH: 38/40\n",
            "Train loss: 1.356345, Test loss: 1.3366\n",
            "Train accuracy: 0.3449, Test accuracy: 0.0726\n"
          ]
        },
        {
          "output_type": "stream",
          "name": "stderr",
          "text": [
            "\r 98%|█████████▊| 39/40 [11:41<00:13, 13.92s/it]"
          ]
        },
        {
          "output_type": "stream",
          "name": "stdout",
          "text": [
            "[INFO] EPOCH: 39/40\n",
            "Train loss: 1.357749, Test loss: 1.3680\n",
            "Train accuracy: 0.3336, Test accuracy: 0.0081\n"
          ]
        },
        {
          "output_type": "stream",
          "name": "stderr",
          "text": [
            "100%|██████████| 40/40 [11:55<00:00, 17.88s/it]"
          ]
        },
        {
          "output_type": "stream",
          "name": "stdout",
          "text": [
            "[INFO] EPOCH: 40/40\n",
            "Train loss: 1.357584, Test loss: 1.2974\n",
            "Train accuracy: 0.3260, Test accuracy: 0.3750\n",
            "Time taken to train the model: 715.09s\n"
          ]
        },
        {
          "output_type": "stream",
          "name": "stderr",
          "text": [
            "\n"
          ]
        },
        {
          "output_type": "execute_result",
          "data": {
            "text/plain": [
              "<matplotlib.legend.Legend at 0x79765a8abf40>"
            ]
          },
          "metadata": {},
          "execution_count": 20
        },
        {
          "output_type": "display_data",
          "data": {
            "text/plain": [
              "<Figure size 640x480 with 1 Axes>"
            ],
            "image/png": "[encoded data removed]"
          },
          "metadata": {}
        }
      ]
    },
    {
      "cell_type": "markdown",
      "source": [
        "### Predict using the trained model"
      ],
      "metadata": {
        "id": "QuxHHkogPMvg"
      }
    },
    {
      "cell_type": "code",
      "source": [
        "def make_predictions(model, image_path, classLabels):\n",
        "    # set model to evaluation mode\n",
        "    model.eval()\n",
        "\n",
        "    # turn off gradient tracking\n",
        "    with torch.no_grad():\n",
        "        # load the image from disk, swap its color channels\n",
        "        image = cv2.imread(imagePath)\n",
        "        image = cv2.resize(image, (configuration.INPUT_IMAGE_WIDTH, configuration.INPUT_IMAGE_HEIGHT))\n",
        "        image = image.astype(\"float32\") / 255.0\n",
        "\n",
        "        # make the channel axis to be the leading one, add a batch\n",
        "        # dimension, create a PyTorch tensor, and flash it to the\n",
        "        # current device\n",
        "        image = np.transpose(image, (2, 0, 1))\n",
        "        image = np.expand_dims(image, 0)\n",
        "        image = torch.from_numpy(image).to(Configuration.device)\n",
        "\n",
        "        # make the prediction and retrieve the index of the highest\n",
        "        # score to find the predicted class label\n",
        "        outputs = model(image)\n",
        "        _, preds = torch.max(outputs, 1)\n",
        "        predictedClass = preds.cpu().numpy()[0]\n",
        "\n",
        "    # return the original image and the predicted class label\n",
        "    return image, classLabels[predictedClass]\n"
      ],
      "metadata": {
        "id": "uYrdFyk4wB3l"
      },
      "execution_count": 21,
      "outputs": []
    },
    {
      "cell_type": "code",
      "source": [
        "# Assuming 'base_dir' is the path to the directory containing your four folders\n",
        "base_dir_2 = '/content/drive/MyDrive/MLProjectData/kaggle_solutionSet'\n",
        "classes = ['glioma_tumor', 'meningioma_tumor', 'normal', 'pituitary_tumor']\n",
        "\n",
        "# Create a list to hold file paths and labels\n",
        "kaggle_image_paths = []\n",
        "\n",
        "for file_name in os.listdir(base_dir_2):\n",
        "    if file_name.endswith('.jpg'):\n",
        "        kaggle_image_paths.append(os.path.join(base_dir_2, file_name))\n",
        "\n",
        "\n"
      ],
      "metadata": {
        "id": "JjTXhfcTCvUP"
      },
      "execution_count": 22,
      "outputs": []
    },
    {
      "cell_type": "code",
      "source": [
        "len(kaggle_image_paths)"
      ],
      "metadata": {
        "colab": {
          "base_uri": "https://localhost:8080/"
        },
        "id": "OUiWOy8ox5tF",
        "outputId": "b574301e-87c9-47b7-ecba-c38cef7ceb07"
      },
      "execution_count": 23,
      "outputs": [
        {
          "output_type": "execute_result",
          "data": {
            "text/plain": [
              "621"
            ]
          },
          "metadata": {},
          "execution_count": 23
        }
      ]
    },
    {
      "cell_type": "code",
      "source": [
        "import pandas as pd\n",
        "\n",
        "# Assuming `testImages` is a list of file paths in your test set\n",
        "# and `classLabels` is a list or dict mapping class indices to class names\n",
        "\n",
        "# Initialize a list to store image names and predicted class names\n",
        "predictions = []\n",
        "\n",
        "# Loop over the test images\n",
        "for imagePath in kaggle_image_paths:\n",
        "    # Extract the image file name\n",
        "    imageFileName = imagePath.split(os.path.sep)[-1]\n",
        "\n",
        "    # Make a prediction using the model\n",
        "    _, predictedClass = make_predictions(unet, imagePath, classes)\n",
        "\n",
        "    # Store the result\n",
        "    predictions.append([imageFileName, predictedClass])\n",
        "\n",
        "# Convert the predictions to a DataFrame\n",
        "predictions_df = pd.DataFrame(predictions, columns=['ID', 'prediction'])\n",
        "\n",
        "# Save the predictions to a CSV file\n",
        "predictions_csv_path = '/content/drive/MyDrive/MLProjectData/predictions.csv'\n",
        "predictions_df.to_csv(predictions_csv_path, index=False)\n",
        "\n",
        "print(f\"Predictions saved to {predictions_csv_path}\")\n"
      ],
      "metadata": {
        "colab": {
          "base_uri": "https://localhost:8080/"
        },
        "id": "X6lQBw4ZPQ00",
        "outputId": "a3bb78ff-05c4-474b-c928-3fe98e825781"
      },
      "execution_count": 24,
      "outputs": [
        {
          "output_type": "stream",
          "name": "stdout",
          "text": [
            "Predictions saved to /content/drive/MyDrive/MLProjectData/predictions.csv\n"
          ]
        }
      ]
    },
    {
      "cell_type": "markdown",
      "source": [
        "UNet with image augmentation"
      ],
      "metadata": {
        "id": "RBr4xIniNBVy"
      }
    },
    {
      "cell_type": "code",
      "source": [
        "from torchvision import transforms\n",
        "from torch import nn\n",
        "\n",
        "\n",
        "# partition the data into training and testing splits using 80% of\n",
        "# the data for training and the remaining 20% for testing\n",
        "split = train_test_split(image_paths, image_labels,\n",
        "\ttest_size=Configuration.TEST_SPLIT, random_state=42)\n",
        "\n",
        "# unpack the data split\n",
        "(trainImages, testImages) = split[:2]\n",
        "(trainLabels, testLabels) = split[2:]\n",
        "\n",
        "\n",
        "# define transformations\n",
        "transforms = transforms.Compose([transforms.ToPILImage(),\n",
        " \ttransforms.Resize((Configuration.INPUT_IMAGE_HEIGHT,\n",
        "\t\tConfiguration.INPUT_IMAGE_WIDTH)),\n",
        "\ttransforms.RandomRotation(degrees=10),\n",
        "\ttransforms.RandomAffine(degrees=0, translate=(0.1, 0.1)),\n",
        "\ttransforms.ToTensor()])\n",
        "\n",
        "# create the train and test datasets\n",
        "trainDS = Segmentation(image_paths=trainImages, labels=trainLabels,\n",
        "\ttransforms=transforms)\n",
        "testDS = Segmentation(image_paths=testImages, labels=testLabels,\n",
        "    transforms=transforms)\n",
        "print(f\"[INFO] found {len(trainDS)} examples in the training set...\")\n",
        "print(f\"[INFO] found {len(testDS)} examples in the test set...\")\n",
        "\n",
        "# create the training and test data loaders\n",
        "trainLoader = DataLoader(trainDS, shuffle=True,\n",
        "\tbatch_size=Configuration.BATCH_SIZE, pin_memory=Configuration.PIN_MEMORY,\n",
        "\tnum_workers=os.cpu_count())\n",
        "testLoader = DataLoader(testDS, shuffle=False,\n",
        "\tbatch_size=Configuration.BATCH_SIZE, pin_memory=Configuration.PIN_MEMORY,\n",
        "\tnum_workers=os.cpu_count())"
      ],
      "metadata": {
        "colab": {
          "base_uri": "https://localhost:8080/"
        },
        "id": "GNMfmkqiJZxU",
        "outputId": "b1efd7d4-9ef7-472c-c4ea-97d3999a82c4"
      },
      "execution_count": 25,
      "outputs": [
        {
          "output_type": "stream",
          "name": "stdout",
          "text": [
            "[INFO] found 2227 examples in the training set...\n",
            "[INFO] found 248 examples in the test set...\n"
          ]
        }
      ]
    },
    {
      "cell_type": "code",
      "source": [
        "# initialize our UNet model\n",
        "unet2 = UNet().to(configuration.device)\n",
        "\n",
        "lossFunc = nn.CrossEntropyLoss()    # CrossEntropy as it is a multi class classificiation\n",
        "opt = Adam(unet2.parameters(), lr=configuration.INIT_LR)\n",
        "\n",
        "\n",
        "trainSteps = len(trainDS) // configuration.BATCH_SIZE\n",
        "testSteps = len(testDS) // configuration.BATCH_SIZE\n",
        "best_val_loss = float('inf')\n",
        "best_epoch = 0\n",
        "best_model_path = '/content/drive/MyDrive/MLProjectData/unet1_best_model.pth'\n",
        "\n",
        "H = {\"train_loss\": [], \"test_loss\": [], \"train_acc\": [], \"test_acc\": []}\n",
        "\n",
        "\n",
        "print(\"Training starts here for the network ...\")\n",
        "startTime = time.time()\n",
        "for e in tqdm(range(configuration.NUM_EPOCHS)):\n",
        "\n",
        "\tunet2.train()\n",
        "\n",
        "\n",
        "\ttotalTrainLoss = 0\n",
        "\ttotalTestLoss = 0\n",
        "\ttrainCorrect = 0\n",
        "\ttrainTotal = 0\n",
        "\ttestCorrect = 0\n",
        "\ttestTotal = 0\n",
        "\n",
        "\n",
        "\tfor (i, (x, y)) in enumerate(trainLoader):\n",
        "\n",
        "\t\t(x, y) = (x.to(configuration.device), y.to(configuration.device))\n",
        "\n",
        "\t\tpred = unet2(x)\n",
        "\t\tloss = lossFunc(pred, y.long())\n",
        "\n",
        "\n",
        "\t\t_, predictions = torch.max(pred, 1)\n",
        "\t\ttrainCorrect += (predictions == y).sum().item()\n",
        "\t\ttrainTotal += y.size(0)\n",
        "\n",
        "\n",
        "\t\topt.zero_grad()\n",
        "\t\tloss.backward()\n",
        "\t\topt.step()\n",
        "\n",
        "\t\ttotalTrainLoss += loss\n",
        "\n",
        "\ttrainAcc = trainCorrect / trainTotal\n",
        "\tH[\"train_acc\"].append(trainAcc)\n",
        "\n",
        "\twith torch.no_grad():\n",
        "\n",
        "\t\tunet2.eval()\n",
        "\n",
        "\t\tfor (x, y) in testLoader:\n",
        "\t\t\t(x, y) = (x.to(configuration.device), y.to(configuration.device))\n",
        "\n",
        "\t\t\tpred = unet2(x)\n",
        "\t\t\ttotalTestLoss += lossFunc(pred, y)\n",
        "\n",
        "\t\t\t_, predictions = torch.max(pred, 1)\n",
        "\t\t\ttestCorrect += (predictions == y).sum().item()\n",
        "\t\t\ttestTotal += y.size(0)\n",
        "\n",
        "\n",
        "\ttestAcc = testCorrect / testTotal\n",
        "\tH[\"test_acc\"].append(testAcc)\n",
        "\n",
        "\tavgTrainLoss = totalTrainLoss / trainSteps\n",
        "\tavgTestLoss = totalTestLoss / testSteps\n",
        "\n",
        "\n",
        "\tH[\"train_loss\"].append(avgTrainLoss.cpu().detach().numpy())\n",
        "\tH[\"test_loss\"].append(avgTestLoss.cpu().detach().numpy())\n",
        "\n",
        "\n",
        "\tprint(\"[INFO] EPOCH: {}/{}\".format(e + 1, Configuration.NUM_EPOCHS))\n",
        "\tprint(\"Train loss: {:.6f}, Test loss: {:.4f}\".format(\n",
        "\t\tavgTrainLoss, avgTestLoss))\n",
        "\n",
        "\tprint(f\"Train accuracy: {trainAcc:.4f}, Test accuracy: {testAcc:.4f}\")\n",
        "\n",
        "\tavgTestLoss = totalTestLoss / testSteps\n",
        "\tif avgTestLoss < best_val_loss:\n",
        "\t\tprint(f\"New best model found at epoch {e+1} with test loss {avgTestLoss:.4f}\")\n",
        "\t\tbest_val_loss = avgTestLoss\n",
        "\t\tbest_epoch = e + 1\n",
        "\t\t# best_model_save_path = os.path.join('/content/drive/MyDrive/MLProjectData', f'unet_best_model_epoch_{best_epoch}.pth')\n",
        "\t\ttorch.save(unet2.state_dict(), best_model_path)\n",
        "\n",
        "\n",
        "endTime = time.time()\n",
        "print(\"Time taken to train the model: {:.2f}s\".format(\n",
        "\tendTime - startTime))\n",
        "\n",
        "# plot the training loss and accuracy\n",
        "plt.style.use(\"ggplot\")\n",
        "plt.figure()\n",
        "plt.plot(H[\"train_loss\"], label=\"train_loss\")\n",
        "plt.plot(H[\"test_loss\"], label=\"test_loss\")\n",
        "plt.title(\"Training Loss on Dataset\")\n",
        "plt.xlabel(\"Epoch #\")\n",
        "plt.ylabel(\"Loss\")\n",
        "plt.legend(loc=\"lower left\")\n",
        "\n"
      ],
      "metadata": {
        "colab": {
          "base_uri": "https://localhost:8080/",
          "height": 1000
        },
        "id": "ZNGWNBy3JZvt",
        "outputId": "176c82ea-84be-491a-ca09-d0654bf273bf"
      },
      "execution_count": 26,
      "outputs": [
        {
          "output_type": "stream",
          "name": "stdout",
          "text": [
            "Training starts here for the network ...\n"
          ]
        },
        {
          "output_type": "stream",
          "name": "stderr",
          "text": [
            "  2%|▎         | 1/40 [00:14<09:28, 14.58s/it]"
          ]
        },
        {
          "output_type": "stream",
          "name": "stdout",
          "text": [
            "[INFO] EPOCH: 1/40\n",
            "Train loss: 1.423439, Test loss: 1.2846\n",
            "Train accuracy: 0.1940, Test accuracy: 0.0000\n",
            "New best model found at epoch 1 with test loss 1.2846\n"
          ]
        },
        {
          "output_type": "stream",
          "name": "stderr",
          "text": [
            "\r  5%|▌         | 2/40 [00:29<09:21, 14.79s/it]"
          ]
        },
        {
          "output_type": "stream",
          "name": "stdout",
          "text": [
            "[INFO] EPOCH: 2/40\n",
            "Train loss: 1.361374, Test loss: 1.3096\n",
            "Train accuracy: 0.3282, Test accuracy: 0.9637\n"
          ]
        },
        {
          "output_type": "stream",
          "name": "stderr",
          "text": [
            "\r  8%|▊         | 3/40 [00:44<09:09, 14.85s/it]"
          ]
        },
        {
          "output_type": "stream",
          "name": "stdout",
          "text": [
            "[INFO] EPOCH: 3/40\n",
            "Train loss: 1.359974, Test loss: 1.2857\n",
            "Train accuracy: 0.3170, Test accuracy: 0.0000\n"
          ]
        },
        {
          "output_type": "stream",
          "name": "stderr",
          "text": [
            "\r 10%|█         | 4/40 [00:59<08:51, 14.77s/it]"
          ]
        },
        {
          "output_type": "stream",
          "name": "stdout",
          "text": [
            "[INFO] EPOCH: 4/40\n",
            "Train loss: 1.359247, Test loss: 1.2718\n",
            "Train accuracy: 0.3273, Test accuracy: 0.0000\n",
            "New best model found at epoch 4 with test loss 1.2718\n"
          ]
        },
        {
          "output_type": "stream",
          "name": "stderr",
          "text": [
            "\r 12%|█▎        | 5/40 [01:13<08:33, 14.66s/it]"
          ]
        },
        {
          "output_type": "stream",
          "name": "stdout",
          "text": [
            "[INFO] EPOCH: 5/40\n",
            "Train loss: 1.359446, Test loss: 1.3044\n",
            "Train accuracy: 0.3125, Test accuracy: 0.0323\n"
          ]
        },
        {
          "output_type": "stream",
          "name": "stderr",
          "text": [
            "\r 15%|█▌        | 6/40 [01:27<08:11, 14.45s/it]"
          ]
        },
        {
          "output_type": "stream",
          "name": "stdout",
          "text": [
            "[INFO] EPOCH: 6/40\n",
            "Train loss: 1.359565, Test loss: 1.3116\n",
            "Train accuracy: 0.3197, Test accuracy: 0.3952\n"
          ]
        },
        {
          "output_type": "stream",
          "name": "stderr",
          "text": [
            "\r 18%|█▊        | 7/40 [01:42<07:57, 14.48s/it]"
          ]
        },
        {
          "output_type": "stream",
          "name": "stdout",
          "text": [
            "[INFO] EPOCH: 7/40\n",
            "Train loss: 1.359094, Test loss: 1.2981\n",
            "Train accuracy: 0.3125, Test accuracy: 0.0323\n"
          ]
        },
        {
          "output_type": "stream",
          "name": "stderr",
          "text": [
            "\r 20%|██        | 8/40 [01:56<07:42, 14.46s/it]"
          ]
        },
        {
          "output_type": "stream",
          "name": "stdout",
          "text": [
            "[INFO] EPOCH: 8/40\n",
            "Train loss: 1.361765, Test loss: 1.2690\n",
            "Train accuracy: 0.3278, Test accuracy: 0.0000\n",
            "New best model found at epoch 8 with test loss 1.2690\n"
          ]
        },
        {
          "output_type": "stream",
          "name": "stderr",
          "text": [
            "\r 22%|██▎       | 9/40 [02:11<07:33, 14.62s/it]"
          ]
        },
        {
          "output_type": "stream",
          "name": "stdout",
          "text": [
            "[INFO] EPOCH: 9/40\n",
            "Train loss: 1.357468, Test loss: 1.2269\n",
            "Train accuracy: 0.3107, Test accuracy: 1.0000\n",
            "New best model found at epoch 9 with test loss 1.2269\n"
          ]
        },
        {
          "output_type": "stream",
          "name": "stderr",
          "text": [
            "\r 25%|██▌       | 10/40 [02:26<07:21, 14.72s/it]"
          ]
        },
        {
          "output_type": "stream",
          "name": "stdout",
          "text": [
            "[INFO] EPOCH: 10/40\n",
            "Train loss: 1.357941, Test loss: 1.3496\n",
            "Train accuracy: 0.3278, Test accuracy: 0.0000\n"
          ]
        },
        {
          "output_type": "stream",
          "name": "stderr",
          "text": [
            "\r 28%|██▊       | 11/40 [02:41<07:05, 14.69s/it]"
          ]
        },
        {
          "output_type": "stream",
          "name": "stdout",
          "text": [
            "[INFO] EPOCH: 11/40\n",
            "Train loss: 1.361378, Test loss: 1.2649\n",
            "Train accuracy: 0.3278, Test accuracy: 0.0000\n"
          ]
        },
        {
          "output_type": "stream",
          "name": "stderr",
          "text": [
            "\r 30%|███       | 12/40 [02:55<06:48, 14.60s/it]"
          ]
        },
        {
          "output_type": "stream",
          "name": "stdout",
          "text": [
            "[INFO] EPOCH: 12/40\n",
            "Train loss: 1.359679, Test loss: 1.3385\n",
            "Train accuracy: 0.3220, Test accuracy: 0.0000\n"
          ]
        },
        {
          "output_type": "stream",
          "name": "stderr",
          "text": [
            "\r 32%|███▎      | 13/40 [03:09<06:33, 14.56s/it]"
          ]
        },
        {
          "output_type": "stream",
          "name": "stdout",
          "text": [
            "[INFO] EPOCH: 13/40\n",
            "Train loss: 1.358639, Test loss: 1.2896\n",
            "Train accuracy: 0.3278, Test accuracy: 0.0000\n"
          ]
        },
        {
          "output_type": "stream",
          "name": "stderr",
          "text": [
            "\r 35%|███▌      | 14/40 [03:23<06:13, 14.36s/it]"
          ]
        },
        {
          "output_type": "stream",
          "name": "stdout",
          "text": [
            "[INFO] EPOCH: 14/40\n",
            "Train loss: 1.358469, Test loss: 1.2150\n",
            "Train accuracy: 0.3269, Test accuracy: 1.0000\n",
            "New best model found at epoch 14 with test loss 1.2150\n"
          ]
        },
        {
          "output_type": "stream",
          "name": "stderr",
          "text": [
            "\r 38%|███▊      | 15/40 [03:38<05:59, 14.37s/it]"
          ]
        },
        {
          "output_type": "stream",
          "name": "stdout",
          "text": [
            "[INFO] EPOCH: 15/40\n",
            "Train loss: 1.359173, Test loss: 1.2781\n",
            "Train accuracy: 0.3220, Test accuracy: 0.0000\n"
          ]
        },
        {
          "output_type": "stream",
          "name": "stderr",
          "text": [
            "\r 40%|████      | 16/40 [03:52<05:44, 14.36s/it]"
          ]
        },
        {
          "output_type": "stream",
          "name": "stdout",
          "text": [
            "[INFO] EPOCH: 16/40\n",
            "Train loss: 1.359967, Test loss: 1.3116\n",
            "Train accuracy: 0.3233, Test accuracy: 0.0000\n"
          ]
        },
        {
          "output_type": "stream",
          "name": "stderr",
          "text": [
            "\r 42%|████▎     | 17/40 [04:07<05:35, 14.57s/it]"
          ]
        },
        {
          "output_type": "stream",
          "name": "stdout",
          "text": [
            "[INFO] EPOCH: 17/40\n",
            "Train loss: 1.359138, Test loss: 1.2635\n",
            "Train accuracy: 0.3287, Test accuracy: 1.0000\n"
          ]
        },
        {
          "output_type": "stream",
          "name": "stderr",
          "text": [
            "\r 45%|████▌     | 18/40 [04:22<05:24, 14.74s/it]"
          ]
        },
        {
          "output_type": "stream",
          "name": "stdout",
          "text": [
            "[INFO] EPOCH: 18/40\n",
            "Train loss: 1.359956, Test loss: 1.3110\n",
            "Train accuracy: 0.3134, Test accuracy: 0.8185\n"
          ]
        },
        {
          "output_type": "stream",
          "name": "stderr",
          "text": [
            "\r 48%|████▊     | 19/40 [04:37<05:09, 14.72s/it]"
          ]
        },
        {
          "output_type": "stream",
          "name": "stdout",
          "text": [
            "[INFO] EPOCH: 19/40\n",
            "Train loss: 1.357939, Test loss: 1.3095\n",
            "Train accuracy: 0.3220, Test accuracy: 0.0000\n"
          ]
        },
        {
          "output_type": "stream",
          "name": "stderr",
          "text": [
            "\r 50%|█████     | 20/40 [04:52<04:55, 14.80s/it]"
          ]
        },
        {
          "output_type": "stream",
          "name": "stdout",
          "text": [
            "[INFO] EPOCH: 20/40\n",
            "Train loss: 1.358023, Test loss: 1.2543\n",
            "Train accuracy: 0.3269, Test accuracy: 0.8589\n"
          ]
        },
        {
          "output_type": "stream",
          "name": "stderr",
          "text": [
            "\r 52%|█████▎    | 21/40 [05:07<04:40, 14.78s/it]"
          ]
        },
        {
          "output_type": "stream",
          "name": "stdout",
          "text": [
            "[INFO] EPOCH: 21/40\n",
            "Train loss: 1.357926, Test loss: 1.2575\n",
            "Train accuracy: 0.3211, Test accuracy: 0.8710\n"
          ]
        },
        {
          "output_type": "stream",
          "name": "stderr",
          "text": [
            "\r 55%|█████▌    | 22/40 [05:21<04:21, 14.55s/it]"
          ]
        },
        {
          "output_type": "stream",
          "name": "stdout",
          "text": [
            "[INFO] EPOCH: 22/40\n",
            "Train loss: 1.357942, Test loss: 1.3306\n",
            "Train accuracy: 0.3264, Test accuracy: 0.0000\n"
          ]
        },
        {
          "output_type": "stream",
          "name": "stderr",
          "text": [
            "\r 57%|█████▊    | 23/40 [05:35<04:07, 14.53s/it]"
          ]
        },
        {
          "output_type": "stream",
          "name": "stdout",
          "text": [
            "[INFO] EPOCH: 23/40\n",
            "Train loss: 1.359185, Test loss: 1.2806\n",
            "Train accuracy: 0.3278, Test accuracy: 0.0000\n"
          ]
        },
        {
          "output_type": "stream",
          "name": "stderr",
          "text": [
            "\r 60%|██████    | 24/40 [05:50<03:52, 14.53s/it]"
          ]
        },
        {
          "output_type": "stream",
          "name": "stdout",
          "text": [
            "[INFO] EPOCH: 24/40\n",
            "Train loss: 1.358778, Test loss: 1.2849\n",
            "Train accuracy: 0.3211, Test accuracy: 0.6532\n"
          ]
        },
        {
          "output_type": "stream",
          "name": "stderr",
          "text": [
            "\r 62%|██████▎   | 25/40 [06:05<03:39, 14.63s/it]"
          ]
        },
        {
          "output_type": "stream",
          "name": "stdout",
          "text": [
            "[INFO] EPOCH: 25/40\n",
            "Train loss: 1.358373, Test loss: 1.3011\n",
            "Train accuracy: 0.3327, Test accuracy: 0.0000\n"
          ]
        },
        {
          "output_type": "stream",
          "name": "stderr",
          "text": [
            "\r 65%|██████▌   | 26/40 [06:19<03:25, 14.71s/it]"
          ]
        },
        {
          "output_type": "stream",
          "name": "stdout",
          "text": [
            "[INFO] EPOCH: 26/40\n",
            "Train loss: 1.358780, Test loss: 1.3118\n",
            "Train accuracy: 0.3278, Test accuracy: 0.0000\n"
          ]
        },
        {
          "output_type": "stream",
          "name": "stderr",
          "text": [
            "\r 68%|██████▊   | 27/40 [06:34<03:12, 14.77s/it]"
          ]
        },
        {
          "output_type": "stream",
          "name": "stdout",
          "text": [
            "[INFO] EPOCH: 27/40\n",
            "Train loss: 1.358144, Test loss: 1.3080\n",
            "Train accuracy: 0.3251, Test accuracy: 0.0000\n"
          ]
        },
        {
          "output_type": "stream",
          "name": "stderr",
          "text": [
            "\r 70%|███████   | 28/40 [06:49<02:57, 14.77s/it]"
          ]
        },
        {
          "output_type": "stream",
          "name": "stdout",
          "text": [
            "[INFO] EPOCH: 28/40\n",
            "Train loss: 1.358408, Test loss: 1.2752\n",
            "Train accuracy: 0.3278, Test accuracy: 0.0000\n"
          ]
        },
        {
          "output_type": "stream",
          "name": "stderr",
          "text": [
            "\r 72%|███████▎  | 29/40 [07:04<02:42, 14.76s/it]"
          ]
        },
        {
          "output_type": "stream",
          "name": "stdout",
          "text": [
            "[INFO] EPOCH: 29/40\n",
            "Train loss: 1.357854, Test loss: 1.3315\n",
            "Train accuracy: 0.3256, Test accuracy: 0.8629\n"
          ]
        },
        {
          "output_type": "stream",
          "name": "stderr",
          "text": [
            "\r 75%|███████▌  | 30/40 [07:18<02:26, 14.66s/it]"
          ]
        },
        {
          "output_type": "stream",
          "name": "stdout",
          "text": [
            "[INFO] EPOCH: 30/40\n",
            "Train loss: 1.357802, Test loss: 1.3089\n",
            "Train accuracy: 0.3220, Test accuracy: 0.0000\n"
          ]
        },
        {
          "output_type": "stream",
          "name": "stderr",
          "text": [
            "\r 78%|███████▊  | 31/40 [07:33<02:10, 14.53s/it]"
          ]
        },
        {
          "output_type": "stream",
          "name": "stdout",
          "text": [
            "[INFO] EPOCH: 31/40\n",
            "Train loss: 1.358399, Test loss: 1.3073\n",
            "Train accuracy: 0.3247, Test accuracy: 0.0000\n"
          ]
        },
        {
          "output_type": "stream",
          "name": "stderr",
          "text": [
            "\r 80%|████████  | 32/40 [07:47<01:55, 14.48s/it]"
          ]
        },
        {
          "output_type": "stream",
          "name": "stdout",
          "text": [
            "[INFO] EPOCH: 32/40\n",
            "Train loss: 1.358647, Test loss: 1.2796\n",
            "Train accuracy: 0.3287, Test accuracy: 0.5847\n"
          ]
        },
        {
          "output_type": "stream",
          "name": "stderr",
          "text": [
            "\r 82%|████████▎ | 33/40 [08:02<01:41, 14.57s/it]"
          ]
        },
        {
          "output_type": "stream",
          "name": "stdout",
          "text": [
            "[INFO] EPOCH: 33/40\n",
            "Train loss: 1.357239, Test loss: 1.3282\n",
            "Train accuracy: 0.3233, Test accuracy: 0.4395\n"
          ]
        },
        {
          "output_type": "stream",
          "name": "stderr",
          "text": [
            "\r 85%|████████▌ | 34/40 [08:17<01:28, 14.70s/it]"
          ]
        },
        {
          "output_type": "stream",
          "name": "stdout",
          "text": [
            "[INFO] EPOCH: 34/40\n",
            "Train loss: 1.358016, Test loss: 1.2946\n",
            "Train accuracy: 0.3229, Test accuracy: 0.5766\n"
          ]
        },
        {
          "output_type": "stream",
          "name": "stderr",
          "text": [
            "\r 88%|████████▊ | 35/40 [08:32<01:14, 14.88s/it]"
          ]
        },
        {
          "output_type": "stream",
          "name": "stdout",
          "text": [
            "[INFO] EPOCH: 35/40\n",
            "Train loss: 1.358062, Test loss: 1.3157\n",
            "Train accuracy: 0.3112, Test accuracy: 0.8065\n"
          ]
        },
        {
          "output_type": "stream",
          "name": "stderr",
          "text": [
            "\r 90%|█████████ | 36/40 [08:46<00:59, 14.77s/it]"
          ]
        },
        {
          "output_type": "stream",
          "name": "stdout",
          "text": [
            "[INFO] EPOCH: 36/40\n",
            "Train loss: 1.357833, Test loss: 1.2627\n",
            "Train accuracy: 0.3368, Test accuracy: 0.8306\n"
          ]
        },
        {
          "output_type": "stream",
          "name": "stderr",
          "text": [
            "\r 92%|█████████▎| 37/40 [09:01<00:44, 14.77s/it]"
          ]
        },
        {
          "output_type": "stream",
          "name": "stdout",
          "text": [
            "[INFO] EPOCH: 37/40\n",
            "Train loss: 1.358015, Test loss: 1.3393\n",
            "Train accuracy: 0.3287, Test accuracy: 0.0242\n"
          ]
        },
        {
          "output_type": "stream",
          "name": "stderr",
          "text": [
            "\r 95%|█████████▌| 38/40 [09:16<00:29, 14.64s/it]"
          ]
        },
        {
          "output_type": "stream",
          "name": "stdout",
          "text": [
            "[INFO] EPOCH: 38/40\n",
            "Train loss: 1.357968, Test loss: 1.3705\n",
            "Train accuracy: 0.3291, Test accuracy: 0.0766\n"
          ]
        },
        {
          "output_type": "stream",
          "name": "stderr",
          "text": [
            "\r 98%|█████████▊| 39/40 [09:30<00:14, 14.52s/it]"
          ]
        },
        {
          "output_type": "stream",
          "name": "stdout",
          "text": [
            "[INFO] EPOCH: 39/40\n",
            "Train loss: 1.358397, Test loss: 1.2786\n",
            "Train accuracy: 0.3368, Test accuracy: 0.6935\n"
          ]
        },
        {
          "output_type": "stream",
          "name": "stderr",
          "text": [
            "100%|██████████| 40/40 [09:44<00:00, 14.62s/it]"
          ]
        },
        {
          "output_type": "stream",
          "name": "stdout",
          "text": [
            "[INFO] EPOCH: 40/40\n",
            "Train loss: 1.356936, Test loss: 1.2994\n",
            "Train accuracy: 0.3368, Test accuracy: 0.3790\n",
            "Time taken to train the model: 584.81s\n"
          ]
        },
        {
          "output_type": "stream",
          "name": "stderr",
          "text": [
            "\n"
          ]
        },
        {
          "output_type": "execute_result",
          "data": {
            "text/plain": [
              "<matplotlib.legend.Legend at 0x7976083acfd0>"
            ]
          },
          "metadata": {},
          "execution_count": 26
        },
        {
          "output_type": "display_data",
          "data": {
            "text/plain": [
              "<Figure size 640x480 with 1 Axes>"
            ],
            "image/png": "[encoded data removed]"
          },
          "metadata": {}
        }
      ]
    },
    {
      "cell_type": "code",
      "source": [
        "# Define the path to the saved model state\n",
        "saved_model_state_path = '/content/drive/MyDrive/MLProjectData/unet_best_model.pth'\n",
        "\n",
        "# Initialize your UNet model\n",
        "unet2 = UNet().to(Configuration.device)\n",
        "\n",
        "# Load the saved model state\n",
        "unet2.load_state_dict(torch.load(saved_model_state_path))\n",
        "\n",
        "# Make sure to switch to evaluation mode\n",
        "unet2.eval()"
      ],
      "metadata": {
        "colab": {
          "base_uri": "https://localhost:8080/"
        },
        "id": "Ckh4gzq0R6Jn",
        "outputId": "9c27bfe4-b80d-4a1e-949f-0ab3186227c5"
      },
      "execution_count": 27,
      "outputs": [
        {
          "output_type": "execute_result",
          "data": {
            "text/plain": [
              "UNet(\n",
              "  (encoder): encoderBlock(\n",
              "    (encBlocks): ModuleList(\n",
              "      (0): Block(\n",
              "        (conv1): Conv2d(3, 16, kernel_size=(3, 3), stride=(1, 1))\n",
              "        (relu): ReLU()\n",
              "        (conv2): Conv2d(16, 16, kernel_size=(3, 3), stride=(1, 1))\n",
              "      )\n",
              "      (1): Block(\n",
              "        (conv1): Conv2d(16, 32, kernel_size=(3, 3), stride=(1, 1))\n",
              "        (relu): ReLU()\n",
              "        (conv2): Conv2d(32, 32, kernel_size=(3, 3), stride=(1, 1))\n",
              "      )\n",
              "      (2): Block(\n",
              "        (conv1): Conv2d(32, 64, kernel_size=(3, 3), stride=(1, 1))\n",
              "        (relu): ReLU()\n",
              "        (conv2): Conv2d(64, 64, kernel_size=(3, 3), stride=(1, 1))\n",
              "      )\n",
              "    )\n",
              "    (pool): MaxPool2d(kernel_size=2, stride=2, padding=0, dilation=1, ceil_mode=False)\n",
              "  )\n",
              "  (decoder): decoderBlock(\n",
              "    (upconvs): ModuleList(\n",
              "      (0): ConvTranspose2d(64, 32, kernel_size=(2, 2), stride=(2, 2))\n",
              "      (1): ConvTranspose2d(32, 16, kernel_size=(2, 2), stride=(2, 2))\n",
              "    )\n",
              "    (dec_blocks): ModuleList(\n",
              "      (0): Block(\n",
              "        (conv1): Conv2d(64, 32, kernel_size=(3, 3), stride=(1, 1))\n",
              "        (relu): ReLU()\n",
              "        (conv2): Conv2d(32, 32, kernel_size=(3, 3), stride=(1, 1))\n",
              "      )\n",
              "      (1): Block(\n",
              "        (conv1): Conv2d(32, 16, kernel_size=(3, 3), stride=(1, 1))\n",
              "        (relu): ReLU()\n",
              "        (conv2): Conv2d(16, 16, kernel_size=(3, 3), stride=(1, 1))\n",
              "      )\n",
              "    )\n",
              "  )\n",
              "  (head): Sequential(\n",
              "    (0): AdaptiveAvgPool2d(output_size=1)\n",
              "    (1): Flatten(start_dim=1, end_dim=-1)\n",
              "    (2): Linear(in_features=16, out_features=4, bias=True)\n",
              "  )\n",
              ")"
            ]
          },
          "metadata": {},
          "execution_count": 27
        }
      ]
    },
    {
      "cell_type": "code",
      "source": [
        "def make_predictions(model, image_path, classLabels):\n",
        "    model.load_state_dict(torch.load(best_model_path))\n",
        "    model.eval()\n",
        "\n",
        "    # turn off gradient tracking\n",
        "    with torch.no_grad():\n",
        "        # load the image from disk, swap its color channels\n",
        "        image = cv2.imread(imagePath)\n",
        "        image = cv2.resize(image, (configuration.INPUT_IMAGE_WIDTH, configuration.INPUT_IMAGE_HEIGHT))\n",
        "        image = image.astype(\"float32\") / 255.0\n",
        "\n",
        "        # make the channel axis to be the leading one, add a batch\n",
        "        # dimension, create a PyTorch tensor, and flash it to the\n",
        "        # current device\n",
        "        image = np.transpose(image, (2, 0, 1))\n",
        "        image = np.expand_dims(image, 0)\n",
        "        image = torch.from_numpy(image).to(Configuration.device)\n",
        "\n",
        "        # make the prediction and retrieve the index of the highest\n",
        "        # score to find the predicted class label\n",
        "        outputs = model(image)\n",
        "        _, preds = torch.max(outputs, 1)\n",
        "        predictedClass = preds.cpu().numpy()[0]\n",
        "\n",
        "    # return the original image and the predicted class label\n",
        "    return image, classLabels[predictedClass]\n"
      ],
      "metadata": {
        "id": "I7VEh1dBQgAa"
      },
      "execution_count": 28,
      "outputs": []
    },
    {
      "cell_type": "code",
      "source": [
        "import pandas as pd\n",
        "\n",
        "# Assuming `testImages` is a list of file paths in your test set\n",
        "# and `classLabels` is a list or dict mapping class indices to class names\n",
        "\n",
        "# Initialize a list to store image names and predicted class names\n",
        "predictions = []\n",
        "\n",
        "# Loop over the test images\n",
        "for imagePath in kaggle_image_paths:\n",
        "    # Extract the image file name\n",
        "    imageFileName = imagePath.split(os.path.sep)[-1]\n",
        "\n",
        "    # Make a prediction using the model\n",
        "    _, predictedClass = make_predictions(unet2, imagePath, classes)\n",
        "\n",
        "    # Store the result\n",
        "    predictions.append([imageFileName, predictedClass])\n",
        "\n",
        "# Convert the predictions to a DataFrame\n",
        "predictions_df = pd.DataFrame(predictions, columns=['ID', 'prediction'])\n",
        "\n",
        "# Save the predictions to a CSV file\n",
        "predictions_csv_path = '/content/drive/MyDrive/MLProjectData/predictions2.csv'\n",
        "predictions_df.to_csv(predictions_csv_path, index=False)\n",
        "\n",
        "print(f\"Predictions saved to {predictions_csv_path}\")\n"
      ],
      "metadata": {
        "colab": {
          "base_uri": "https://localhost:8080/"
        },
        "id": "wnPqjEy7NJRs",
        "outputId": "418a0ee6-8b75-4186-b6e3-f3347d3baf9a"
      },
      "execution_count": 29,
      "outputs": [
        {
          "output_type": "stream",
          "name": "stdout",
          "text": [
            "Predictions saved to /content/drive/MyDrive/MLProjectData/predictions2.csv\n"
          ]
        }
      ]
    },
    {
      "cell_type": "code",
      "source": [],
      "metadata": {
        "id": "QI3r301KLZW4"
      },
      "execution_count": 29,
      "outputs": []
    }
  ]
}