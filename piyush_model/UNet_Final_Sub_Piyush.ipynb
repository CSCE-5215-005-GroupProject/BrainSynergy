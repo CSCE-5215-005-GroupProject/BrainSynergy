{
  "nbformat": 4,
  "nbformat_minor": 0,
  "metadata": {
    "colab": {
      "provenance": [],
      "gpuType": "T4"
    },
    "kernelspec": {
      "name": "python3",
      "display_name": "Python 3"
    },
    "language_info": {
      "name": "python"
    },
    "accelerator": "GPU"
  },
  "cells": [
    {
      "cell_type": "code",
      "execution_count": 1,
      "metadata": {
        "id": "HxyqgKZIEpRO"
      },
      "outputs": [],
      "source": [
        "# import the necessary packages\n",
        "from torch.utils.data import Dataset\n",
        "from torch.nn import ConvTranspose2d\n",
        "from torch.nn import Conv2d\n",
        "from torch.nn import MaxPool2d\n",
        "from torch.nn import Module\n",
        "from torch.nn import ModuleList\n",
        "from torch.nn import ReLU\n",
        "from torchvision.transforms import CenterCrop\n",
        "from torch.optim import Adam\n",
        "from torch.utils.data import DataLoader\n",
        "from sklearn.model_selection import train_test_split\n",
        "from torchvision import transforms\n",
        "from imutils import paths\n",
        "from tqdm import tqdm\n",
        "from torch.nn import functional as F\n",
        "import matplotlib.pyplot as plt\n",
        "import numpy as np\n",
        "import torch\n",
        "import os\n",
        "import cv2\n",
        "import time\n",
        "from torchvision import transforms\n",
        "from torch import nn"
      ]
    },
    {
      "cell_type": "code",
      "source": [
        "from google.colab import drive\n",
        "drive.mount('/content/drive/')"
      ],
      "metadata": {
        "colab": {
          "base_uri": "https://localhost:8080/"
        },
        "id": "jSWrlbleS96K",
        "outputId": "1bd39baf-21af-46b8-b018-1e1511a11a7a"
      },
      "execution_count": 2,
      "outputs": [
        {
          "output_type": "stream",
          "name": "stdout",
          "text": [
            "Mounted at /content/drive/\n"
          ]
        }
      ]
    },
    {
      "cell_type": "code",
      "source": [
        "# Assuming 'base_dir' is the path to the directory containing your four folders\n",
        "base_dir = '/content/drive/MyDrive/MLProjectData/competition_data'\n",
        "classes = ['glioma_tumor', 'meningioma_tumor', 'normal', 'pituitary_tumor']\n",
        "\n",
        "# Create a list to hold file paths and labels\n",
        "image_paths = []\n",
        "image_labels = []\n",
        "\n",
        "# Map each class name to an integer label\n",
        "label_dict = {class_name: index for index, class_name in enumerate(classes)}\n",
        "\n",
        "# Go through each folder and add file paths and labels to the list\n",
        "for class_name in classes:\n",
        "    class_dir = os.path.join(base_dir, class_name)\n",
        "    for file_name in os.listdir(class_dir):\n",
        "        if file_name.endswith('.jpg'):\n",
        "            image_paths.append(os.path.join(class_dir, file_name))\n",
        "            image_labels.append(label_dict[class_name])\n"
      ],
      "metadata": {
        "id": "-beTMOkpN9Uz"
      },
      "execution_count": 3,
      "outputs": []
    },
    {
      "cell_type": "code",
      "source": [
        "len(image_paths)\n",
        "type(image_paths)"
      ],
      "metadata": {
        "colab": {
          "base_uri": "https://localhost:8080/"
        },
        "id": "NtUDToVqTXv_",
        "outputId": "b84f08f2-2952-4a95-9a6a-33b9eb1da4e3"
      },
      "execution_count": 4,
      "outputs": [
        {
          "output_type": "execute_result",
          "data": {
            "text/plain": [
              "list"
            ]
          },
          "metadata": {},
          "execution_count": 4
        }
      ]
    },
    {
      "cell_type": "code",
      "source": [
        "len(image_labels)\n",
        "type(image_labels)"
      ],
      "metadata": {
        "colab": {
          "base_uri": "https://localhost:8080/"
        },
        "id": "XyKOPjw1EttY",
        "outputId": "9e9144de-2afc-46c6-8f30-dfbb4d400240"
      },
      "execution_count": 5,
      "outputs": [
        {
          "output_type": "execute_result",
          "data": {
            "text/plain": [
              "list"
            ]
          },
          "metadata": {},
          "execution_count": 5
        }
      ]
    },
    {
      "cell_type": "code",
      "source": [
        "trial_image = cv2.imread(image_paths[5])"
      ],
      "metadata": {
        "id": "VEszeb2xE5iP"
      },
      "execution_count": 6,
      "outputs": []
    },
    {
      "cell_type": "code",
      "source": [
        "trial_image.shape"
      ],
      "metadata": {
        "colab": {
          "base_uri": "https://localhost:8080/"
        },
        "id": "n4TLgKseFCc0",
        "outputId": "33425dd5-040f-4dee-d4cb-d8c6f750f7f2"
      },
      "execution_count": 7,
      "outputs": [
        {
          "output_type": "execute_result",
          "data": {
            "text/plain": [
              "(256, 256, 3)"
            ]
          },
          "metadata": {},
          "execution_count": 7
        }
      ]
    },
    {
      "cell_type": "code",
      "source": [
        "plt.imshow(trial_image)"
      ],
      "metadata": {
        "colab": {
          "base_uri": "https://localhost:8080/",
          "height": 452
        },
        "id": "QA3hXuF6FbX-",
        "outputId": "1fd90962-19fc-4a94-a652-5afd9585f56e"
      },
      "execution_count": 8,
      "outputs": [
        {
          "output_type": "execute_result",
          "data": {
            "text/plain": [
              "<matplotlib.image.AxesImage at 0x7ee9f7faf820>"
            ]
          },
          "metadata": {},
          "execution_count": 8
        },
        {
          "output_type": "display_data",
          "data": {
            "text/plain": [
              "<Figure size 640x480 with 1 Axes>"
            ],
            "image/png": "[encoded data removed]"
          },
          "metadata": {}
        }
      ]
    },
    {
      "cell_type": "code",
      "source": [
        "class Configuration:\n",
        "\n",
        "    TEST_SPLIT = 0.1\n",
        "\n",
        "    device = \"cuda\" if torch.cuda.is_available() else \"cpu\"\n",
        "\n",
        "    PIN_MEMORY = True if device == \"cuda\" else False\n",
        "\n",
        "    NUM_CHANNELS = 3  # Number of channels in the image\n",
        "    NUM_CLASSES = 4   # Number of classes for classification\n",
        "    NUM_LEVELS = 3    # Depth of the UNet\n",
        "\n",
        "\n",
        "    INIT_LR = 0.0001  # Initial learning rate\n",
        "    NUM_EPOCHS = 40   # Number of epochs\n",
        "    BATCH_SIZE = 32   # Number of samples in a batch\n",
        "\n",
        "    INPUT_IMAGE_WIDTH = 256\n",
        "    INPUT_IMAGE_HEIGHT = 256\n",
        "\n",
        "    THRESHOLD = 0.5\n",
        "\n",
        "configuration = Configuration()"
      ],
      "metadata": {
        "id": "gfxPEkUIEvcv"
      },
      "execution_count": 9,
      "outputs": []
    },
    {
      "cell_type": "code",
      "source": [
        "class Segmentation(Dataset):\n",
        "\tdef __init__(self, image_paths, labels, transforms):\n",
        "\n",
        "\t\tself.image_paths = image_paths\n",
        "\t\tself.labels = image_labels\n",
        "\t\tself.transforms = transforms\n",
        "\n",
        "\tdef __len__(self):\n",
        "\t\treturn len(self.image_paths)\n",
        "\n",
        "\tdef __getitem__(self, idx):\n",
        "\t\timagePath = self.image_paths[idx]\n",
        "\n",
        "\t\timage = cv2.imread(imagePath)\n",
        "\t\t# image = cv2.cvtColor(image, cv2.COLOR_BGR2RGB)\n",
        "\t\tlabel = self.labels[idx]\n",
        "\n",
        "\t\tif self.transforms is not None:\n",
        "\t\t\t# apply the transformations to image\n",
        "\t\t\timage = self.transforms(image)\n",
        "\n",
        "\t\treturn (image, label)"
      ],
      "metadata": {
        "id": "gdIJXSibHUad"
      },
      "execution_count": 10,
      "outputs": []
    },
    {
      "cell_type": "code",
      "source": [
        "class Block(Module):\n",
        "\tdef __init__(self, inChannels, outChannels):\n",
        "\t\tsuper().__init__()\n",
        "\t\tself.conv1 = Conv2d(inChannels, outChannels, 3)\n",
        "\t\tself.relu = ReLU()\n",
        "\t\tself.conv2 = Conv2d(outChannels, outChannels, 3)\n",
        "\n",
        "\tdef forward(self, x):\n",
        "\t\tx = self.conv1(x)\n",
        "\t\tx = self.relu(x)\n",
        "\t\tx = self.conv2(x)\n",
        "\t\treturn x\n",
        "\t\t# return self.conv2(self.relu(self.conv1(x)))"
      ],
      "metadata": {
        "id": "IOR7wouZEvX1"
      },
      "execution_count": 11,
      "outputs": []
    },
    {
      "cell_type": "code",
      "source": [
        "class encoderBlock(Module):\n",
        "\tdef __init__(self, channels=(3, 16, 32, 64)):\n",
        "\t\tsuper().__init__()\n",
        "\n",
        "\t\tself.encBlocks = ModuleList(\n",
        "\t\t\t[Block(channels[i], channels[i + 1])\n",
        "\t\t\t \tfor i in range(len(channels) - 1)])\n",
        "\t\tself.pool = MaxPool2d(2)\n",
        "\n",
        "\tdef forward(self, x):\n",
        "\n",
        "\t\tblockOutputs = []\n",
        "\n",
        "\n",
        "\t\tfor block in self.encBlocks:\n",
        "\n",
        "\t\t\tx = block(x)\n",
        "\t\t\tblockOutputs.append(x)\n",
        "\t\t\tx = self.pool(x)\n",
        "\n",
        "\n",
        "\t\treturn blockOutputs"
      ],
      "metadata": {
        "id": "iVB89ABEFiXM"
      },
      "execution_count": 12,
      "outputs": []
    },
    {
      "cell_type": "code",
      "source": [
        "class decoderBlock(Module):\n",
        "\tdef __init__(self, channels=(64, 32, 16)):\n",
        "\t\tsuper().__init__()\n",
        "\t\tself.channels = channels\n",
        "\t\tself.upconvs = ModuleList(\n",
        "\t\t\t[ConvTranspose2d(channels[i], channels[i + 1], 2, 2)\n",
        "\t\t\t \tfor i in range(len(channels) - 1)])\n",
        "\t\tself.dec_blocks = ModuleList(\n",
        "\t\t\t[Block(channels[i], channels[i + 1])\n",
        "\t\t\t \tfor i in range(len(channels) - 1)])\n",
        "\n",
        "\tdef forward(self, x, encFeatures):\n",
        "\n",
        "\t\tfor i in range(len(self.channels) - 1):\n",
        "\n",
        "\t\t\tx = self.upconvs[i](x)\n",
        "\n",
        "\n",
        "\t\t\tencFeat = self.crop(encFeatures[i], x)\n",
        "\t\t\tx = torch.cat([x, encFeat], dim=1)\n",
        "\t\t\tx = self.dec_blocks[i](x)\n",
        "\n",
        "\n",
        "\t\treturn x\n",
        "\n",
        "\tdef crop(self, encFeatures, x):\n",
        "\n",
        "\t\t(_, _, H, W) = x.shape\n",
        "\t\tencFeatures = CenterCrop([H, W])(encFeatures)\n",
        "\n",
        "\n",
        "\t\treturn encFeatures"
      ],
      "metadata": {
        "id": "-3M_8wkdFiUp"
      },
      "execution_count": 13,
      "outputs": []
    },
    {
      "cell_type": "code",
      "source": [
        "class UNet(Module):\n",
        "  def __init__(self, encChannels = (3, 16, 32, 64), decChannels = (64, 32, 16), nbClasses = 4, retainDim = True, outSize=(configuration.INPUT_IMAGE_HEIGHT,  configuration.INPUT_IMAGE_WIDTH)):\n",
        "    super().__init__()\n",
        "\n",
        "    self.encoder = encoderBlock(encChannels)\n",
        "    self.decoder = decoderBlock(decChannels)\n",
        "\n",
        "\n",
        "    self.head = self.head = nn.Sequential(\n",
        "        nn.AdaptiveAvgPool2d(1),  # Global Average Pooling\n",
        "        nn.Flatten(),  # Flatten the output\n",
        "        nn.Linear(decChannels[-1], nbClasses))\n",
        "    self.retainDim = retainDim\n",
        "    self.outSize = outSize\n",
        "\n",
        "  def forward(self, x):\n",
        "    encFeatures = self.encoder(x)\n",
        "    decFeatures = self.decoder(encFeatures[::-1][0], encFeatures[::-1][1:])\n",
        "\n",
        "\n",
        "    class_scores = self.head(decFeatures)\n",
        "\n",
        "    return class_scores\n",
        "\n",
        "\n",
        "\n"
      ],
      "metadata": {
        "id": "Qh84HuXTbjJO"
      },
      "execution_count": 14,
      "outputs": []
    },
    {
      "cell_type": "markdown",
      "source": [
        "### Define the data pipeline"
      ],
      "metadata": {
        "id": "cyi8vj5OO0Lm"
      }
    },
    {
      "cell_type": "code",
      "source": [
        "split = train_test_split(image_paths, image_labels,\n",
        "\ttest_size=configuration.TEST_SPLIT, random_state=42)"
      ],
      "metadata": {
        "id": "2UE0vJlkH6N8"
      },
      "execution_count": 15,
      "outputs": []
    },
    {
      "cell_type": "code",
      "source": [
        "(trainImages, testImages) = split[:2]\n",
        "(trainLabels, testLabels) = split[2:]"
      ],
      "metadata": {
        "id": "EbNQAC7XH-ZA"
      },
      "execution_count": 16,
      "outputs": []
    },
    {
      "cell_type": "code",
      "source": [
        "trainDS = Segmentation(image_paths=trainImages, labels=trainLabels,\n",
        "\ttransforms=transforms)"
      ],
      "metadata": {
        "id": "hTgKJq__Jrb4"
      },
      "execution_count": 17,
      "outputs": []
    },
    {
      "cell_type": "code",
      "source": [
        "len(trainDS)"
      ],
      "metadata": {
        "colab": {
          "base_uri": "https://localhost:8080/"
        },
        "id": "4hjEx9NGJzXk",
        "outputId": "a6305167-0389-43c3-ad83-672a3aa6db96"
      },
      "execution_count": 18,
      "outputs": [
        {
          "output_type": "execute_result",
          "data": {
            "text/plain": [
              "2227"
            ]
          },
          "metadata": {},
          "execution_count": 18
        }
      ]
    },
    {
      "cell_type": "code",
      "source": [
        "from torchvision import transforms\n",
        "from torch import nn\n",
        "\n",
        "\n",
        "# partition the data into training and testing splits using 80% of\n",
        "# the data for training and the remaining 20% for testing\n",
        "split = train_test_split(image_paths, image_labels,\n",
        "\ttest_size=Configuration.TEST_SPLIT, random_state=42)\n",
        "\n",
        "# unpack the data split\n",
        "(trainImages, testImages) = split[:2]\n",
        "(trainLabels, testLabels) = split[2:]\n",
        "\n",
        "\n",
        "# define transformations\n",
        "transforms = transforms.Compose([transforms.ToPILImage(),\n",
        " \ttransforms.Resize((Configuration.INPUT_IMAGE_HEIGHT,\n",
        "\t\tConfiguration.INPUT_IMAGE_WIDTH)),\n",
        "\ttransforms.ToTensor()])\n",
        "\n",
        "# create the train and test datasets\n",
        "trainDS = Segmentation(image_paths=trainImages, labels=trainLabels,\n",
        "\ttransforms=transforms)\n",
        "testDS = Segmentation(image_paths=testImages, labels=testLabels,\n",
        "    transforms=transforms)\n",
        "print(f\"[INFO] found {len(trainDS)} examples in the training set...\")\n",
        "print(f\"[INFO] found {len(testDS)} examples in the test set...\")\n",
        "\n",
        "# create the training and test data loaders\n",
        "trainLoader = DataLoader(trainDS, shuffle=True,\n",
        "\tbatch_size=Configuration.BATCH_SIZE, pin_memory=Configuration.PIN_MEMORY,\n",
        "\tnum_workers=os.cpu_count())\n",
        "testLoader = DataLoader(testDS, shuffle=False,\n",
        "\tbatch_size=Configuration.BATCH_SIZE, pin_memory=Configuration.PIN_MEMORY,\n",
        "\tnum_workers=os.cpu_count())"
      ],
      "metadata": {
        "colab": {
          "base_uri": "https://localhost:8080/"
        },
        "id": "aNrWRbQ3FiRl",
        "outputId": "2437b157-cd1a-469e-c646-5aff5ffcd82c"
      },
      "execution_count": 19,
      "outputs": [
        {
          "output_type": "stream",
          "name": "stdout",
          "text": [
            "[INFO] found 2227 examples in the training set...\n",
            "[INFO] found 248 examples in the test set...\n"
          ]
        }
      ]
    },
    {
      "cell_type": "markdown",
      "source": [
        "### Train the model"
      ],
      "metadata": {
        "id": "FtyDUFk2PFaj"
      }
    },
    {
      "cell_type": "code",
      "source": [
        "# initialize our UNet model\n",
        "unet = UNet().to(configuration.device)\n",
        "\n",
        "lossFunc = nn.CrossEntropyLoss()    # CrossEntropy as it is a multi class classificiation\n",
        "opt = Adam(unet.parameters(), lr=configuration.INIT_LR)\n",
        "\n",
        "\n",
        "trainSteps = len(trainDS) // configuration.BATCH_SIZE\n",
        "testSteps = len(testDS) // configuration.BATCH_SIZE\n",
        "\n",
        "H = {\"train_loss\": [], \"test_loss\": [], \"train_acc\": [], \"test_acc\": []}\n",
        "\n",
        "\n",
        "print(\"Training starts here for the network ...\")\n",
        "startTime = time.time()\n",
        "for e in tqdm(range(configuration.NUM_EPOCHS)):\n",
        "\n",
        "\tunet.train()\n",
        "\n",
        "\n",
        "\ttotalTrainLoss = 0\n",
        "\ttotalTestLoss = 0\n",
        "\ttrainCorrect = 0\n",
        "\ttrainTotal = 0\n",
        "\ttestCorrect = 0\n",
        "\ttestTotal = 0\n",
        "\n",
        "\n",
        "\tfor (i, (x, y)) in enumerate(trainLoader):\n",
        "\n",
        "\t\t(x, y) = (x.to(configuration.device), y.to(configuration.device))\n",
        "\n",
        "\t\tpred = unet(x)\n",
        "\t\tloss = lossFunc(pred, y.long())\n",
        "\n",
        "\n",
        "\t\t_, predictions = torch.max(pred, 1)\n",
        "\t\ttrainCorrect += (predictions == y).sum().item()\n",
        "\t\ttrainTotal += y.size(0)\n",
        "\n",
        "\n",
        "\t\topt.zero_grad()\n",
        "\t\tloss.backward()\n",
        "\t\topt.step()\n",
        "\n",
        "\t\ttotalTrainLoss += loss\n",
        "\n",
        "\ttrainAcc = trainCorrect / trainTotal\n",
        "\tH[\"train_acc\"].append(trainAcc)\n",
        "\n",
        "\twith torch.no_grad():\n",
        "\n",
        "\t\tunet.eval()\n",
        "\n",
        "\t\tfor (x, y) in testLoader:\n",
        "\t\t\t(x, y) = (x.to(configuration.device), y.to(configuration.device))\n",
        "\n",
        "\t\t\tpred = unet(x)\n",
        "\t\t\ttotalTestLoss += lossFunc(pred, y)\n",
        "\n",
        "\t\t\t_, predictions = torch.max(pred, 1)\n",
        "\t\t\ttestCorrect += (predictions == y).sum().item()\n",
        "\t\t\ttestTotal += y.size(0)\n",
        "\n",
        "\ttestAcc = testCorrect / testTotal\n",
        "\tH[\"test_acc\"].append(testAcc)\n",
        "\n",
        "\tavgTrainLoss = totalTrainLoss / trainSteps\n",
        "\tavgTestLoss = totalTestLoss / testSteps\n",
        "\n",
        "\n",
        "\tH[\"train_loss\"].append(avgTrainLoss.cpu().detach().numpy())\n",
        "\tH[\"test_loss\"].append(avgTestLoss.cpu().detach().numpy())\n",
        "\n",
        "\n",
        "\tprint(\"[INFO] EPOCH: {}/{}\".format(e + 1, Configuration.NUM_EPOCHS))\n",
        "\tprint(\"Train loss: {:.6f}, Test loss: {:.4f}\".format(\n",
        "\t\tavgTrainLoss, avgTestLoss))\n",
        "\n",
        "\tprint(f\"Train accuracy: {trainAcc:.4f}, Test accuracy: {testAcc:.4f}\")\n",
        "\n",
        "endTime = time.time()\n",
        "print(\"Time taken to train the model: {:.2f}s\".format(\n",
        "\tendTime - startTime))\n",
        "\n",
        "# plot the training loss and accuracy\n",
        "plt.style.use(\"ggplot\")\n",
        "plt.figure()\n",
        "plt.plot(H[\"train_loss\"], label=\"train_loss\")\n",
        "plt.plot(H[\"test_loss\"], label=\"test_loss\")\n",
        "plt.title(\"Training Loss on Dataset\")\n",
        "plt.xlabel(\"Epoch #\")\n",
        "plt.ylabel(\"Loss\")\n",
        "plt.legend(loc=\"lower left\")\n",
        "\n",
        "model_save_path = '/content/drive/MyDrive/MLProjectData/unet_model.pth'\n",
        "torch.save(unet.state_dict(), model_save_path)"
      ],
      "metadata": {
        "colab": {
          "base_uri": "https://localhost:8080/",
          "height": 1000
        },
        "id": "Bv1FrTwzFiP2",
        "outputId": "7b31fc7f-4946-49bd-c62e-f25f8ef6b8a0"
      },
      "execution_count": 30,
      "outputs": [
        {
          "output_type": "stream",
          "name": "stdout",
          "text": [
            "Training starts here for the network ...\n"
          ]
        },
        {
          "output_type": "stream",
          "name": "stderr",
          "text": [
            "  2%|▎         | 1/40 [05:59<3:53:49, 359.73s/it]"
          ]
        },
        {
          "output_type": "stream",
          "name": "stdout",
          "text": [
            "[INFO] EPOCH: 1/40\n",
            "Train loss: 1.399850, Test loss: 1.2609\n",
            "Train accuracy: 0.2537, Test accuracy: 1.0000\n"
          ]
        },
        {
          "output_type": "stream",
          "name": "stderr",
          "text": [
            "\r  5%|▌         | 2/40 [06:13<1:38:51, 156.09s/it]"
          ]
        },
        {
          "output_type": "stream",
          "name": "stdout",
          "text": [
            "[INFO] EPOCH: 2/40\n",
            "Train loss: 1.362047, Test loss: 1.2530\n",
            "Train accuracy: 0.3134, Test accuracy: 0.9556\n"
          ]
        },
        {
          "output_type": "stream",
          "name": "stderr",
          "text": [
            "\r  8%|▊         | 3/40 [06:27<56:12, 91.16s/it]   "
          ]
        },
        {
          "output_type": "stream",
          "name": "stdout",
          "text": [
            "[INFO] EPOCH: 3/40\n",
            "Train loss: 1.359649, Test loss: 1.3160\n",
            "Train accuracy: 0.3202, Test accuracy: 0.2581\n"
          ]
        },
        {
          "output_type": "stream",
          "name": "stderr",
          "text": [
            "\r 10%|█         | 4/40 [06:41<36:24, 60.67s/it]"
          ]
        },
        {
          "output_type": "stream",
          "name": "stdout",
          "text": [
            "[INFO] EPOCH: 4/40\n",
            "Train loss: 1.358453, Test loss: 1.3027\n",
            "Train accuracy: 0.3220, Test accuracy: 0.0000\n"
          ]
        },
        {
          "output_type": "stream",
          "name": "stderr",
          "text": [
            "\r 12%|█▎        | 5/40 [06:55<25:38, 43.96s/it]"
          ]
        },
        {
          "output_type": "stream",
          "name": "stdout",
          "text": [
            "[INFO] EPOCH: 5/40\n",
            "Train loss: 1.359722, Test loss: 1.3377\n",
            "Train accuracy: 0.3188, Test accuracy: 0.0000\n"
          ]
        },
        {
          "output_type": "stream",
          "name": "stderr",
          "text": [
            "\r 15%|█▌        | 6/40 [07:09<19:08, 33.77s/it]"
          ]
        },
        {
          "output_type": "stream",
          "name": "stdout",
          "text": [
            "[INFO] EPOCH: 6/40\n",
            "Train loss: 1.359520, Test loss: 1.3132\n",
            "Train accuracy: 0.3260, Test accuracy: 0.0000\n"
          ]
        },
        {
          "output_type": "stream",
          "name": "stderr",
          "text": [
            "\r 18%|█▊        | 7/40 [07:23<15:03, 27.39s/it]"
          ]
        },
        {
          "output_type": "stream",
          "name": "stdout",
          "text": [
            "[INFO] EPOCH: 7/40\n",
            "Train loss: 1.358315, Test loss: 1.2644\n",
            "Train accuracy: 0.3251, Test accuracy: 0.0000\n"
          ]
        },
        {
          "output_type": "stream",
          "name": "stderr",
          "text": [
            "\r 20%|██        | 8/40 [07:37<12:19, 23.12s/it]"
          ]
        },
        {
          "output_type": "stream",
          "name": "stdout",
          "text": [
            "[INFO] EPOCH: 8/40\n",
            "Train loss: 1.358686, Test loss: 1.3262\n",
            "Train accuracy: 0.3278, Test accuracy: 0.0000\n"
          ]
        },
        {
          "output_type": "stream",
          "name": "stderr",
          "text": [
            "\r 22%|██▎       | 9/40 [07:51<10:26, 20.21s/it]"
          ]
        },
        {
          "output_type": "stream",
          "name": "stdout",
          "text": [
            "[INFO] EPOCH: 9/40\n",
            "Train loss: 1.358620, Test loss: 1.3183\n",
            "Train accuracy: 0.3179, Test accuracy: 0.0000\n"
          ]
        },
        {
          "output_type": "stream",
          "name": "stderr",
          "text": [
            "\r 25%|██▌       | 10/40 [08:05<09:10, 18.36s/it]"
          ]
        },
        {
          "output_type": "stream",
          "name": "stdout",
          "text": [
            "[INFO] EPOCH: 10/40\n",
            "Train loss: 1.357378, Test loss: 1.2612\n",
            "Train accuracy: 0.3260, Test accuracy: 0.0000\n"
          ]
        },
        {
          "output_type": "stream",
          "name": "stderr",
          "text": [
            "\r 28%|██▊       | 11/40 [08:19<08:11, 16.96s/it]"
          ]
        },
        {
          "output_type": "stream",
          "name": "stdout",
          "text": [
            "[INFO] EPOCH: 11/40\n",
            "Train loss: 1.359005, Test loss: 1.3300\n",
            "Train accuracy: 0.3309, Test accuracy: 0.9919\n"
          ]
        },
        {
          "output_type": "stream",
          "name": "stderr",
          "text": [
            "\r 30%|███       | 12/40 [08:33<07:29, 16.06s/it]"
          ]
        },
        {
          "output_type": "stream",
          "name": "stdout",
          "text": [
            "[INFO] EPOCH: 12/40\n",
            "Train loss: 1.359692, Test loss: 1.2743\n",
            "Train accuracy: 0.3256, Test accuracy: 0.0000\n"
          ]
        },
        {
          "output_type": "stream",
          "name": "stderr",
          "text": [
            "\r 32%|███▎      | 13/40 [08:47<06:55, 15.40s/it]"
          ]
        },
        {
          "output_type": "stream",
          "name": "stdout",
          "text": [
            "[INFO] EPOCH: 13/40\n",
            "Train loss: 1.359146, Test loss: 1.2558\n",
            "Train accuracy: 0.3175, Test accuracy: 0.0000\n"
          ]
        },
        {
          "output_type": "stream",
          "name": "stderr",
          "text": [
            "\r 35%|███▌      | 14/40 [09:01<06:28, 14.96s/it]"
          ]
        },
        {
          "output_type": "stream",
          "name": "stdout",
          "text": [
            "[INFO] EPOCH: 14/40\n",
            "Train loss: 1.358264, Test loss: 1.2747\n",
            "Train accuracy: 0.3296, Test accuracy: 0.8831\n"
          ]
        },
        {
          "output_type": "stream",
          "name": "stderr",
          "text": [
            "\r 38%|███▊      | 15/40 [09:15<06:06, 14.67s/it]"
          ]
        },
        {
          "output_type": "stream",
          "name": "stdout",
          "text": [
            "[INFO] EPOCH: 15/40\n",
            "Train loss: 1.358541, Test loss: 1.2816\n",
            "Train accuracy: 0.3179, Test accuracy: 0.0000\n"
          ]
        },
        {
          "output_type": "stream",
          "name": "stderr",
          "text": [
            "\r 40%|████      | 16/40 [09:29<05:47, 14.49s/it]"
          ]
        },
        {
          "output_type": "stream",
          "name": "stdout",
          "text": [
            "[INFO] EPOCH: 16/40\n",
            "Train loss: 1.357260, Test loss: 1.3538\n",
            "Train accuracy: 0.3282, Test accuracy: 0.9194\n"
          ]
        },
        {
          "output_type": "stream",
          "name": "stderr",
          "text": [
            "\r 42%|████▎     | 17/40 [09:43<05:30, 14.37s/it]"
          ]
        },
        {
          "output_type": "stream",
          "name": "stdout",
          "text": [
            "[INFO] EPOCH: 17/40\n",
            "Train loss: 1.358555, Test loss: 1.2715\n",
            "Train accuracy: 0.3125, Test accuracy: 1.0000\n"
          ]
        },
        {
          "output_type": "stream",
          "name": "stderr",
          "text": [
            "\r 45%|████▌     | 18/40 [09:57<05:13, 14.25s/it]"
          ]
        },
        {
          "output_type": "stream",
          "name": "stdout",
          "text": [
            "[INFO] EPOCH: 18/40\n",
            "Train loss: 1.357753, Test loss: 1.3365\n",
            "Train accuracy: 0.3260, Test accuracy: 1.0000\n"
          ]
        },
        {
          "output_type": "stream",
          "name": "stderr",
          "text": [
            "\r 48%|████▊     | 19/40 [10:11<04:56, 14.14s/it]"
          ]
        },
        {
          "output_type": "stream",
          "name": "stdout",
          "text": [
            "[INFO] EPOCH: 19/40\n",
            "Train loss: 1.358528, Test loss: 1.3077\n",
            "Train accuracy: 0.3170, Test accuracy: 0.0000\n"
          ]
        },
        {
          "output_type": "stream",
          "name": "stderr",
          "text": [
            "\r 50%|█████     | 20/40 [10:25<04:41, 14.06s/it]"
          ]
        },
        {
          "output_type": "stream",
          "name": "stdout",
          "text": [
            "[INFO] EPOCH: 20/40\n",
            "Train loss: 1.357146, Test loss: 1.2744\n",
            "Train accuracy: 0.3273, Test accuracy: 0.0000\n"
          ]
        },
        {
          "output_type": "stream",
          "name": "stderr",
          "text": [
            "\r 52%|█████▎    | 21/40 [10:39<04:27, 14.06s/it]"
          ]
        },
        {
          "output_type": "stream",
          "name": "stdout",
          "text": [
            "[INFO] EPOCH: 21/40\n",
            "Train loss: 1.359604, Test loss: 1.2843\n",
            "Train accuracy: 0.3206, Test accuracy: 0.0000\n"
          ]
        },
        {
          "output_type": "stream",
          "name": "stderr",
          "text": [
            "\r 55%|█████▌    | 22/40 [10:53<04:12, 14.02s/it]"
          ]
        },
        {
          "output_type": "stream",
          "name": "stdout",
          "text": [
            "[INFO] EPOCH: 22/40\n",
            "Train loss: 1.357688, Test loss: 1.2922\n",
            "Train accuracy: 0.3296, Test accuracy: 0.7903\n"
          ]
        },
        {
          "output_type": "stream",
          "name": "stderr",
          "text": [
            "\r 57%|█████▊    | 23/40 [11:07<03:59, 14.08s/it]"
          ]
        },
        {
          "output_type": "stream",
          "name": "stdout",
          "text": [
            "[INFO] EPOCH: 23/40\n",
            "Train loss: 1.357061, Test loss: 1.2840\n",
            "Train accuracy: 0.3256, Test accuracy: 0.0524\n"
          ]
        },
        {
          "output_type": "stream",
          "name": "stderr",
          "text": [
            "\r 60%|██████    | 24/40 [11:21<03:44, 14.06s/it]"
          ]
        },
        {
          "output_type": "stream",
          "name": "stdout",
          "text": [
            "[INFO] EPOCH: 24/40\n",
            "Train loss: 1.358529, Test loss: 1.2401\n",
            "Train accuracy: 0.3121, Test accuracy: 0.9919\n"
          ]
        },
        {
          "output_type": "stream",
          "name": "stderr",
          "text": [
            "\r 62%|██████▎   | 25/40 [11:35<03:31, 14.07s/it]"
          ]
        },
        {
          "output_type": "stream",
          "name": "stdout",
          "text": [
            "[INFO] EPOCH: 25/40\n",
            "Train loss: 1.357212, Test loss: 1.2936\n",
            "Train accuracy: 0.3170, Test accuracy: 0.1008\n"
          ]
        },
        {
          "output_type": "stream",
          "name": "stderr",
          "text": [
            "\r 65%|██████▌   | 26/40 [11:49<03:16, 14.03s/it]"
          ]
        },
        {
          "output_type": "stream",
          "name": "stdout",
          "text": [
            "[INFO] EPOCH: 26/40\n",
            "Train loss: 1.358905, Test loss: 1.2787\n",
            "Train accuracy: 0.3170, Test accuracy: 0.0202\n"
          ]
        },
        {
          "output_type": "stream",
          "name": "stderr",
          "text": [
            "\r 68%|██████▊   | 27/40 [12:03<03:02, 14.01s/it]"
          ]
        },
        {
          "output_type": "stream",
          "name": "stdout",
          "text": [
            "[INFO] EPOCH: 27/40\n",
            "Train loss: 1.358023, Test loss: 1.2783\n",
            "Train accuracy: 0.3215, Test accuracy: 0.9032\n"
          ]
        },
        {
          "output_type": "stream",
          "name": "stderr",
          "text": [
            "\r 70%|███████   | 28/40 [12:17<02:48, 14.02s/it]"
          ]
        },
        {
          "output_type": "stream",
          "name": "stdout",
          "text": [
            "[INFO] EPOCH: 28/40\n",
            "Train loss: 1.358106, Test loss: 1.2829\n",
            "Train accuracy: 0.3273, Test accuracy: 0.0000\n"
          ]
        },
        {
          "output_type": "stream",
          "name": "stderr",
          "text": [
            "\r 72%|███████▎  | 29/40 [12:31<02:33, 13.99s/it]"
          ]
        },
        {
          "output_type": "stream",
          "name": "stdout",
          "text": [
            "[INFO] EPOCH: 29/40\n",
            "Train loss: 1.357068, Test loss: 1.2849\n",
            "Train accuracy: 0.3273, Test accuracy: 0.0000\n"
          ]
        },
        {
          "output_type": "stream",
          "name": "stderr",
          "text": [
            "\r 75%|███████▌  | 30/40 [12:45<02:19, 13.96s/it]"
          ]
        },
        {
          "output_type": "stream",
          "name": "stdout",
          "text": [
            "[INFO] EPOCH: 30/40\n",
            "Train loss: 1.357469, Test loss: 1.3030\n",
            "Train accuracy: 0.3202, Test accuracy: 0.0000\n"
          ]
        },
        {
          "output_type": "stream",
          "name": "stderr",
          "text": [
            "\r 78%|███████▊  | 31/40 [12:59<02:06, 14.01s/it]"
          ]
        },
        {
          "output_type": "stream",
          "name": "stdout",
          "text": [
            "[INFO] EPOCH: 31/40\n",
            "Train loss: 1.357252, Test loss: 1.2927\n",
            "Train accuracy: 0.3278, Test accuracy: 0.0000\n"
          ]
        },
        {
          "output_type": "stream",
          "name": "stderr",
          "text": [
            "\r 80%|████████  | 32/40 [13:13<01:52, 14.06s/it]"
          ]
        },
        {
          "output_type": "stream",
          "name": "stdout",
          "text": [
            "[INFO] EPOCH: 32/40\n",
            "Train loss: 1.356926, Test loss: 1.2778\n",
            "Train accuracy: 0.3278, Test accuracy: 0.0000\n"
          ]
        },
        {
          "output_type": "stream",
          "name": "stderr",
          "text": [
            "\r 82%|████████▎ | 33/40 [13:27<01:38, 14.00s/it]"
          ]
        },
        {
          "output_type": "stream",
          "name": "stdout",
          "text": [
            "[INFO] EPOCH: 33/40\n",
            "Train loss: 1.357447, Test loss: 1.3271\n",
            "Train accuracy: 0.3269, Test accuracy: 0.2944\n"
          ]
        },
        {
          "output_type": "stream",
          "name": "stderr",
          "text": [
            "\r 85%|████████▌ | 34/40 [13:41<01:23, 14.00s/it]"
          ]
        },
        {
          "output_type": "stream",
          "name": "stdout",
          "text": [
            "[INFO] EPOCH: 34/40\n",
            "Train loss: 1.356618, Test loss: 1.2659\n",
            "Train accuracy: 0.3256, Test accuracy: 0.0000\n"
          ]
        },
        {
          "output_type": "stream",
          "name": "stderr",
          "text": [
            "\r 88%|████████▊ | 35/40 [13:55<01:10, 14.05s/it]"
          ]
        },
        {
          "output_type": "stream",
          "name": "stdout",
          "text": [
            "[INFO] EPOCH: 35/40\n",
            "Train loss: 1.357440, Test loss: 1.2964\n",
            "Train accuracy: 0.3260, Test accuracy: 0.5323\n"
          ]
        },
        {
          "output_type": "stream",
          "name": "stderr",
          "text": [
            "\r 90%|█████████ | 36/40 [14:09<00:56, 14.11s/it]"
          ]
        },
        {
          "output_type": "stream",
          "name": "stdout",
          "text": [
            "[INFO] EPOCH: 36/40\n",
            "Train loss: 1.358282, Test loss: 1.2889\n",
            "Train accuracy: 0.3202, Test accuracy: 0.5242\n"
          ]
        },
        {
          "output_type": "stream",
          "name": "stderr",
          "text": [
            "\r 92%|█████████▎| 37/40 [14:23<00:41, 13.97s/it]"
          ]
        },
        {
          "output_type": "stream",
          "name": "stdout",
          "text": [
            "[INFO] EPOCH: 37/40\n",
            "Train loss: 1.357887, Test loss: 1.3144\n",
            "Train accuracy: 0.3148, Test accuracy: 0.2702\n"
          ]
        },
        {
          "output_type": "stream",
          "name": "stderr",
          "text": [
            "\r 95%|█████████▌| 38/40 [14:37<00:28, 14.08s/it]"
          ]
        },
        {
          "output_type": "stream",
          "name": "stdout",
          "text": [
            "[INFO] EPOCH: 38/40\n",
            "Train loss: 1.359192, Test loss: 1.3130\n",
            "Train accuracy: 0.3273, Test accuracy: 0.8629\n"
          ]
        },
        {
          "output_type": "stream",
          "name": "stderr",
          "text": [
            "\r 98%|█████████▊| 39/40 [14:51<00:14, 14.06s/it]"
          ]
        },
        {
          "output_type": "stream",
          "name": "stdout",
          "text": [
            "[INFO] EPOCH: 39/40\n",
            "Train loss: 1.358329, Test loss: 1.3116\n",
            "Train accuracy: 0.3305, Test accuracy: 0.4879\n"
          ]
        },
        {
          "output_type": "stream",
          "name": "stderr",
          "text": [
            "100%|██████████| 40/40 [15:05<00:00, 22.64s/it]"
          ]
        },
        {
          "output_type": "stream",
          "name": "stdout",
          "text": [
            "[INFO] EPOCH: 40/40\n",
            "Train loss: 1.358468, Test loss: 1.2951\n",
            "Train accuracy: 0.3094, Test accuracy: 0.0081\n",
            "Time taken to train the model: 905.72s\n"
          ]
        },
        {
          "output_type": "stream",
          "name": "stderr",
          "text": [
            "\n"
          ]
        },
        {
          "output_type": "error",
          "ename": "RuntimeError",
          "evalue": "ignored",
          "traceback": [
            "\u001b[0;31m---------------------------------------------------------------------------\u001b[0m",
            "\u001b[0;31mRuntimeError\u001b[0m                              Traceback (most recent call last)",
            "\u001b[0;32m<ipython-input-30-aefa2b79e442>\u001b[0m in \u001b[0;36m<cell line: 97>\u001b[0;34m()\u001b[0m\n\u001b[1;32m     95\u001b[0m \u001b[0;34m\u001b[0m\u001b[0m\n\u001b[1;32m     96\u001b[0m \u001b[0mmodel_save_path\u001b[0m \u001b[0;34m=\u001b[0m \u001b[0;34m'/content/drive/MyDrive/Colab Notebooks/MLProjectData/unet_model.pth'\u001b[0m\u001b[0;34m\u001b[0m\u001b[0;34m\u001b[0m\u001b[0m\n\u001b[0;32m---> 97\u001b[0;31m \u001b[0mtorch\u001b[0m\u001b[0;34m.\u001b[0m\u001b[0msave\u001b[0m\u001b[0;34m(\u001b[0m\u001b[0munet\u001b[0m\u001b[0;34m.\u001b[0m\u001b[0mstate_dict\u001b[0m\u001b[0;34m(\u001b[0m\u001b[0;34m)\u001b[0m\u001b[0;34m,\u001b[0m \u001b[0mmodel_save_path\u001b[0m\u001b[0;34m)\u001b[0m\u001b[0;34m\u001b[0m\u001b[0;34m\u001b[0m\u001b[0m\n\u001b[0m",
            "\u001b[0;32m/usr/local/lib/python3.10/dist-packages/torch/serialization.py\u001b[0m in \u001b[0;36msave\u001b[0;34m(obj, f, pickle_module, pickle_protocol, _use_new_zipfile_serialization, _disable_byteorder_record)\u001b[0m\n\u001b[1;32m    616\u001b[0m \u001b[0;34m\u001b[0m\u001b[0m\n\u001b[1;32m    617\u001b[0m     \u001b[0;32mif\u001b[0m \u001b[0m_use_new_zipfile_serialization\u001b[0m\u001b[0;34m:\u001b[0m\u001b[0;34m\u001b[0m\u001b[0;34m\u001b[0m\u001b[0m\n\u001b[0;32m--> 618\u001b[0;31m         \u001b[0;32mwith\u001b[0m \u001b[0m_open_zipfile_writer\u001b[0m\u001b[0;34m(\u001b[0m\u001b[0mf\u001b[0m\u001b[0;34m)\u001b[0m \u001b[0;32mas\u001b[0m \u001b[0mopened_zipfile\u001b[0m\u001b[0;34m:\u001b[0m\u001b[0;34m\u001b[0m\u001b[0;34m\u001b[0m\u001b[0m\n\u001b[0m\u001b[1;32m    619\u001b[0m             \u001b[0m_save\u001b[0m\u001b[0;34m(\u001b[0m\u001b[0mobj\u001b[0m\u001b[0;34m,\u001b[0m \u001b[0mopened_zipfile\u001b[0m\u001b[0;34m,\u001b[0m \u001b[0mpickle_module\u001b[0m\u001b[0;34m,\u001b[0m \u001b[0mpickle_protocol\u001b[0m\u001b[0;34m,\u001b[0m \u001b[0m_disable_byteorder_record\u001b[0m\u001b[0;34m)\u001b[0m\u001b[0;34m\u001b[0m\u001b[0;34m\u001b[0m\u001b[0m\n\u001b[1;32m    620\u001b[0m             \u001b[0;32mreturn\u001b[0m\u001b[0;34m\u001b[0m\u001b[0;34m\u001b[0m\u001b[0m\n",
            "\u001b[0;32m/usr/local/lib/python3.10/dist-packages/torch/serialization.py\u001b[0m in \u001b[0;36m_open_zipfile_writer\u001b[0;34m(name_or_buffer)\u001b[0m\n\u001b[1;32m    490\u001b[0m     \u001b[0;32melse\u001b[0m\u001b[0;34m:\u001b[0m\u001b[0;34m\u001b[0m\u001b[0;34m\u001b[0m\u001b[0m\n\u001b[1;32m    491\u001b[0m         \u001b[0mcontainer\u001b[0m \u001b[0;34m=\u001b[0m \u001b[0m_open_zipfile_writer_buffer\u001b[0m\u001b[0;34m\u001b[0m\u001b[0;34m\u001b[0m\u001b[0m\n\u001b[0;32m--> 492\u001b[0;31m     \u001b[0;32mreturn\u001b[0m \u001b[0mcontainer\u001b[0m\u001b[0;34m(\u001b[0m\u001b[0mname_or_buffer\u001b[0m\u001b[0;34m)\u001b[0m\u001b[0;34m\u001b[0m\u001b[0;34m\u001b[0m\u001b[0m\n\u001b[0m\u001b[1;32m    493\u001b[0m \u001b[0;34m\u001b[0m\u001b[0m\n\u001b[1;32m    494\u001b[0m \u001b[0;34m\u001b[0m\u001b[0m\n",
            "\u001b[0;32m/usr/local/lib/python3.10/dist-packages/torch/serialization.py\u001b[0m in \u001b[0;36m__init__\u001b[0;34m(self, name)\u001b[0m\n\u001b[1;32m    461\u001b[0m             \u001b[0msuper\u001b[0m\u001b[0;34m(\u001b[0m\u001b[0;34m)\u001b[0m\u001b[0;34m.\u001b[0m\u001b[0m__init__\u001b[0m\u001b[0;34m(\u001b[0m\u001b[0mtorch\u001b[0m\u001b[0;34m.\u001b[0m\u001b[0m_C\u001b[0m\u001b[0;34m.\u001b[0m\u001b[0mPyTorchFileWriter\u001b[0m\u001b[0;34m(\u001b[0m\u001b[0mself\u001b[0m\u001b[0;34m.\u001b[0m\u001b[0mfile_stream\u001b[0m\u001b[0;34m)\u001b[0m\u001b[0;34m)\u001b[0m\u001b[0;34m\u001b[0m\u001b[0;34m\u001b[0m\u001b[0m\n\u001b[1;32m    462\u001b[0m         \u001b[0;32melse\u001b[0m\u001b[0;34m:\u001b[0m\u001b[0;34m\u001b[0m\u001b[0;34m\u001b[0m\u001b[0m\n\u001b[0;32m--> 463\u001b[0;31m             \u001b[0msuper\u001b[0m\u001b[0;34m(\u001b[0m\u001b[0;34m)\u001b[0m\u001b[0;34m.\u001b[0m\u001b[0m__init__\u001b[0m\u001b[0;34m(\u001b[0m\u001b[0mtorch\u001b[0m\u001b[0;34m.\u001b[0m\u001b[0m_C\u001b[0m\u001b[0;34m.\u001b[0m\u001b[0mPyTorchFileWriter\u001b[0m\u001b[0;34m(\u001b[0m\u001b[0mself\u001b[0m\u001b[0;34m.\u001b[0m\u001b[0mname\u001b[0m\u001b[0;34m)\u001b[0m\u001b[0;34m)\u001b[0m\u001b[0;34m\u001b[0m\u001b[0;34m\u001b[0m\u001b[0m\n\u001b[0m\u001b[1;32m    464\u001b[0m \u001b[0;34m\u001b[0m\u001b[0m\n\u001b[1;32m    465\u001b[0m     \u001b[0;32mdef\u001b[0m \u001b[0m__exit__\u001b[0m\u001b[0;34m(\u001b[0m\u001b[0mself\u001b[0m\u001b[0;34m,\u001b[0m \u001b[0;34m*\u001b[0m\u001b[0margs\u001b[0m\u001b[0;34m)\u001b[0m \u001b[0;34m->\u001b[0m \u001b[0;32mNone\u001b[0m\u001b[0;34m:\u001b[0m\u001b[0;34m\u001b[0m\u001b[0;34m\u001b[0m\u001b[0m\n",
            "\u001b[0;31mRuntimeError\u001b[0m: Parent directory /content/drive/MyDrive/Colab Notebooks/MLProjectData does not exist."
          ]
        },
        {
          "output_type": "display_data",
          "data": {
            "text/plain": [
              "<Figure size 640x480 with 1 Axes>"
            ],
            "image/png": "[encoded data removed]"
          },
          "metadata": {}
        }
      ]
    },
    {
      "cell_type": "markdown",
      "source": [
        "### Predict using the trained model"
      ],
      "metadata": {
        "id": "QuxHHkogPMvg"
      }
    },
    {
      "cell_type": "code",
      "source": [
        "def make_predictions(model, image_path, classLabels):\n",
        "    # set model to evaluation mode\n",
        "    model.eval()\n",
        "\n",
        "    # turn off gradient tracking\n",
        "    with torch.no_grad():\n",
        "        # load the image from disk, swap its color channels\n",
        "        image = cv2.imread(imagePath)\n",
        "        image = cv2.resize(image, (configuration.INPUT_IMAGE_WIDTH, configuration.INPUT_IMAGE_HEIGHT))\n",
        "        image = image.astype(\"float32\") / 255.0\n",
        "\n",
        "        # make the channel axis to be the leading one, add a batch\n",
        "        # dimension, create a PyTorch tensor, and flash it to the\n",
        "        # current device\n",
        "        image = np.transpose(image, (2, 0, 1))\n",
        "        image = np.expand_dims(image, 0)\n",
        "        image = torch.from_numpy(image).to(Configuration.device)\n",
        "\n",
        "        # make the prediction and retrieve the index of the highest\n",
        "        # score to find the predicted class label\n",
        "        outputs = model(image)\n",
        "        _, preds = torch.max(outputs, 1)\n",
        "        predictedClass = preds.cpu().numpy()[0]\n",
        "\n",
        "    # return the original image and the predicted class label\n",
        "    return image, classLabels[predictedClass]\n"
      ],
      "metadata": {
        "id": "uYrdFyk4wB3l"
      },
      "execution_count": 20,
      "outputs": []
    },
    {
      "cell_type": "code",
      "source": [
        "# Assuming 'base_dir' is the path to the directory containing your four folders\n",
        "base_dir_2 = '/content/drive/MyDrive/MLProjectData/kaggle_solutionSet'\n",
        "classes = ['glioma_tumor', 'meningioma_tumor', 'normal', 'pituitary_tumor']\n",
        "\n",
        "# Create a list to hold file paths and labels\n",
        "kaggle_image_paths = []\n",
        "\n",
        "for file_name in os.listdir(base_dir_2):\n",
        "    if file_name.endswith('.jpg'):\n",
        "        kaggle_image_paths.append(os.path.join(base_dir_2, file_name))\n",
        "\n",
        "\n"
      ],
      "metadata": {
        "id": "JjTXhfcTCvUP"
      },
      "execution_count": 21,
      "outputs": []
    },
    {
      "cell_type": "code",
      "source": [
        "len(kaggle_image_paths)"
      ],
      "metadata": {
        "colab": {
          "base_uri": "https://localhost:8080/"
        },
        "id": "OUiWOy8ox5tF",
        "outputId": "35a52790-c7a1-49c4-c1df-5054ec2949d5"
      },
      "execution_count": 22,
      "outputs": [
        {
          "output_type": "execute_result",
          "data": {
            "text/plain": [
              "621"
            ]
          },
          "metadata": {},
          "execution_count": 22
        }
      ]
    },
    {
      "cell_type": "code",
      "source": [
        "import pandas as pd\n",
        "\n",
        "# Assuming `testImages` is a list of file paths in your test set\n",
        "# and `classLabels` is a list or dict mapping class indices to class names\n",
        "\n",
        "# Initialize a list to store image names and predicted class names\n",
        "predictions = []\n",
        "\n",
        "# Loop over the test images\n",
        "for imagePath in kaggle_image_paths:\n",
        "    # Extract the image file name\n",
        "    imageFileName = imagePath.split(os.path.sep)[-1]\n",
        "\n",
        "    # Make a prediction using the model\n",
        "    _, predictedClass = make_predictions(unet, imagePath, classes)\n",
        "\n",
        "    # Store the result\n",
        "    predictions.append([imageFileName, predictedClass])\n",
        "\n",
        "# Convert the predictions to a DataFrame\n",
        "predictions_df = pd.DataFrame(predictions, columns=['ID', 'prediction'])\n",
        "\n",
        "# Save the predictions to a CSV file\n",
        "predictions_csv_path = '/content/drive/MyDrive/MLProjectData/predictions.csv'\n",
        "predictions_df.to_csv(predictions_csv_path, index=False)\n",
        "\n",
        "print(f\"Predictions saved to {predictions_csv_path}\")\n"
      ],
      "metadata": {
        "colab": {
          "base_uri": "https://localhost:8080/"
        },
        "id": "X6lQBw4ZPQ00",
        "outputId": "b564b549-92e4-40db-a311-fa6502d1f142"
      },
      "execution_count": 36,
      "outputs": [
        {
          "output_type": "stream",
          "name": "stdout",
          "text": [
            "Predictions saved to /content/drive/MyDrive/MLProjectData/predictions.csv\n"
          ]
        }
      ]
    },
    {
      "cell_type": "markdown",
      "source": [
        "UNet with image augmentation"
      ],
      "metadata": {
        "id": "RBr4xIniNBVy"
      }
    },
    {
      "cell_type": "code",
      "source": [
        "from torchvision import transforms\n",
        "from torch import nn\n",
        "\n",
        "\n",
        "# partition the data into training and testing splits using 80% of\n",
        "# the data for training and the remaining 20% for testing\n",
        "split = train_test_split(image_paths, image_labels,\n",
        "\ttest_size=Configuration.TEST_SPLIT, random_state=42)\n",
        "\n",
        "# unpack the data split\n",
        "(trainImages, testImages) = split[:2]\n",
        "(trainLabels, testLabels) = split[2:]\n",
        "\n",
        "\n",
        "# define transformations\n",
        "transforms = transforms.Compose([transforms.ToPILImage(),\n",
        " \ttransforms.Resize((Configuration.INPUT_IMAGE_HEIGHT,\n",
        "\t\tConfiguration.INPUT_IMAGE_WIDTH)),\n",
        "\ttransforms.RandomRotation(degrees=10),\n",
        "\ttransforms.RandomAffine(degrees=0, translate=(0.1, 0.1)),\n",
        "\ttransforms.ToTensor()])\n",
        "\n",
        "# create the train and test datasets\n",
        "trainDS = Segmentation(image_paths=trainImages, labels=trainLabels,\n",
        "\ttransforms=transforms)\n",
        "testDS = Segmentation(image_paths=testImages, labels=testLabels,\n",
        "    transforms=transforms)\n",
        "print(f\"[INFO] found {len(trainDS)} examples in the training set...\")\n",
        "print(f\"[INFO] found {len(testDS)} examples in the test set...\")\n",
        "\n",
        "# create the training and test data loaders\n",
        "trainLoader = DataLoader(trainDS, shuffle=True,\n",
        "\tbatch_size=Configuration.BATCH_SIZE, pin_memory=Configuration.PIN_MEMORY,\n",
        "\tnum_workers=os.cpu_count())\n",
        "testLoader = DataLoader(testDS, shuffle=False,\n",
        "\tbatch_size=Configuration.BATCH_SIZE, pin_memory=Configuration.PIN_MEMORY,\n",
        "\tnum_workers=os.cpu_count())"
      ],
      "metadata": {
        "colab": {
          "base_uri": "https://localhost:8080/"
        },
        "id": "GNMfmkqiJZxU",
        "outputId": "aa20ea69-092a-4066-fec6-df381fdc74ee"
      },
      "execution_count": 23,
      "outputs": [
        {
          "output_type": "stream",
          "name": "stdout",
          "text": [
            "[INFO] found 2227 examples in the training set...\n",
            "[INFO] found 248 examples in the test set...\n"
          ]
        }
      ]
    },
    {
      "cell_type": "code",
      "source": [
        "# initialize our UNet model\n",
        "unet2 = UNet().to(configuration.device)\n",
        "\n",
        "lossFunc = nn.CrossEntropyLoss()    # CrossEntropy as it is a multi class classificiation\n",
        "opt = Adam(unet2.parameters(), lr=configuration.INIT_LR)\n",
        "\n",
        "\n",
        "trainSteps = len(trainDS) // configuration.BATCH_SIZE\n",
        "testSteps = len(testDS) // configuration.BATCH_SIZE\n",
        "best_val_loss = float('inf')\n",
        "best_epoch = 0\n",
        "best_model_path = '/content/drive/MyDrive/MLProjectData/unet_best_model.pth'\n",
        "\n",
        "H = {\"train_loss\": [], \"test_loss\": [], \"train_acc\": [], \"test_acc\": []}\n",
        "\n",
        "\n",
        "print(\"Training starts here for the network ...\")\n",
        "startTime = time.time()\n",
        "for e in tqdm(range(configuration.NUM_EPOCHS)):\n",
        "\n",
        "\tunet2.train()\n",
        "\n",
        "\n",
        "\ttotalTrainLoss = 0\n",
        "\ttotalTestLoss = 0\n",
        "\ttrainCorrect = 0\n",
        "\ttrainTotal = 0\n",
        "\ttestCorrect = 0\n",
        "\ttestTotal = 0\n",
        "\n",
        "\n",
        "\tfor (i, (x, y)) in enumerate(trainLoader):\n",
        "\n",
        "\t\t(x, y) = (x.to(configuration.device), y.to(configuration.device))\n",
        "\n",
        "\t\tpred = unet2(x)\n",
        "\t\tloss = lossFunc(pred, y.long())\n",
        "\n",
        "\n",
        "\t\t_, predictions = torch.max(pred, 1)\n",
        "\t\ttrainCorrect += (predictions == y).sum().item()\n",
        "\t\ttrainTotal += y.size(0)\n",
        "\n",
        "\n",
        "\t\topt.zero_grad()\n",
        "\t\tloss.backward()\n",
        "\t\topt.step()\n",
        "\n",
        "\t\ttotalTrainLoss += loss\n",
        "\n",
        "\ttrainAcc = trainCorrect / trainTotal\n",
        "\tH[\"train_acc\"].append(trainAcc)\n",
        "\n",
        "\twith torch.no_grad():\n",
        "\n",
        "\t\tunet2.eval()\n",
        "\n",
        "\t\tfor (x, y) in testLoader:\n",
        "\t\t\t(x, y) = (x.to(configuration.device), y.to(configuration.device))\n",
        "\n",
        "\t\t\tpred = unet2(x)\n",
        "\t\t\ttotalTestLoss += lossFunc(pred, y)\n",
        "\n",
        "\t\t\t_, predictions = torch.max(pred, 1)\n",
        "\t\t\ttestCorrect += (predictions == y).sum().item()\n",
        "\t\t\ttestTotal += y.size(0)\n",
        "\n",
        "\n",
        "\ttestAcc = testCorrect / testTotal\n",
        "\tH[\"test_acc\"].append(testAcc)\n",
        "\n",
        "\tavgTrainLoss = totalTrainLoss / trainSteps\n",
        "\tavgTestLoss = totalTestLoss / testSteps\n",
        "\n",
        "\n",
        "\tH[\"train_loss\"].append(avgTrainLoss.cpu().detach().numpy())\n",
        "\tH[\"test_loss\"].append(avgTestLoss.cpu().detach().numpy())\n",
        "\n",
        "\n",
        "\tprint(\"[INFO] EPOCH: {}/{}\".format(e + 1, Configuration.NUM_EPOCHS))\n",
        "\tprint(\"Train loss: {:.6f}, Test loss: {:.4f}\".format(\n",
        "\t\tavgTrainLoss, avgTestLoss))\n",
        "\n",
        "\tprint(f\"Train accuracy: {trainAcc:.4f}, Test accuracy: {testAcc:.4f}\")\n",
        "\n",
        "\tavgTestLoss = totalTestLoss / testSteps\n",
        "\tif avgTestLoss < best_val_loss:\n",
        "\t\tprint(f\"New best model found at epoch {e+1} with test loss {avgTestLoss:.4f}\")\n",
        "\t\tbest_val_loss = avgTestLoss\n",
        "\t\tbest_epoch = e + 1\n",
        "\t\t# best_model_save_path = os.path.join('/content/drive/MyDrive/MLProjectData', f'unet_best_model_epoch_{best_epoch}.pth')\n",
        "\t\ttorch.save(unet2.state_dict(), best_model_path)\n",
        "\n",
        "\n",
        "endTime = time.time()\n",
        "print(\"Time taken to train the model: {:.2f}s\".format(\n",
        "\tendTime - startTime))\n",
        "\n",
        "# plot the training loss and accuracy\n",
        "plt.style.use(\"ggplot\")\n",
        "plt.figure()\n",
        "plt.plot(H[\"train_loss\"], label=\"train_loss\")\n",
        "plt.plot(H[\"test_loss\"], label=\"test_loss\")\n",
        "plt.title(\"Training Loss on Dataset\")\n",
        "plt.xlabel(\"Epoch #\")\n",
        "plt.ylabel(\"Loss\")\n",
        "plt.legend(loc=\"lower left\")\n",
        "\n"
      ],
      "metadata": {
        "colab": {
          "base_uri": "https://localhost:8080/",
          "height": 1000
        },
        "id": "ZNGWNBy3JZvt",
        "outputId": "5e644884-d715-4308-b213-6e451ec9b5c4"
      },
      "execution_count": 29,
      "outputs": [
        {
          "output_type": "stream",
          "name": "stdout",
          "text": [
            "Training starts here for the network ...\n"
          ]
        },
        {
          "output_type": "stream",
          "name": "stderr",
          "text": [
            "  2%|▎         | 1/40 [00:15<09:55, 15.27s/it]"
          ]
        },
        {
          "output_type": "stream",
          "name": "stdout",
          "text": [
            "[INFO] EPOCH: 1/40\n",
            "Train loss: 1.404332, Test loss: 1.0969\n",
            "Train accuracy: 0.2286, Test accuracy: 1.0000\n",
            "New best model found at epoch 1 with test loss 1.0969\n"
          ]
        },
        {
          "output_type": "stream",
          "name": "stderr",
          "text": [
            "\r  5%|▌         | 2/40 [00:30<09:41, 15.29s/it]"
          ]
        },
        {
          "output_type": "stream",
          "name": "stdout",
          "text": [
            "[INFO] EPOCH: 2/40\n",
            "Train loss: 1.359367, Test loss: 1.3528\n",
            "Train accuracy: 0.3121, Test accuracy: 0.0000\n"
          ]
        },
        {
          "output_type": "stream",
          "name": "stderr",
          "text": [
            "\r  8%|▊         | 3/40 [00:45<09:13, 14.96s/it]"
          ]
        },
        {
          "output_type": "stream",
          "name": "stdout",
          "text": [
            "[INFO] EPOCH: 3/40\n",
            "Train loss: 1.361324, Test loss: 1.3182\n",
            "Train accuracy: 0.3206, Test accuracy: 0.0000\n"
          ]
        },
        {
          "output_type": "stream",
          "name": "stderr",
          "text": [
            "\r 10%|█         | 4/40 [00:59<08:54, 14.86s/it]"
          ]
        },
        {
          "output_type": "stream",
          "name": "stdout",
          "text": [
            "[INFO] EPOCH: 4/40\n",
            "Train loss: 1.358382, Test loss: 1.3473\n",
            "Train accuracy: 0.3247, Test accuracy: 0.0000\n"
          ]
        },
        {
          "output_type": "stream",
          "name": "stderr",
          "text": [
            "\r 12%|█▎        | 5/40 [01:16<09:00, 15.44s/it]"
          ]
        },
        {
          "output_type": "stream",
          "name": "stdout",
          "text": [
            "[INFO] EPOCH: 5/40\n",
            "Train loss: 1.358904, Test loss: 1.3061\n",
            "Train accuracy: 0.3278, Test accuracy: 0.0000\n"
          ]
        },
        {
          "output_type": "stream",
          "name": "stderr",
          "text": [
            "\r 15%|█▌        | 6/40 [01:30<08:36, 15.18s/it]"
          ]
        },
        {
          "output_type": "stream",
          "name": "stdout",
          "text": [
            "[INFO] EPOCH: 6/40\n",
            "Train loss: 1.358596, Test loss: 1.3315\n",
            "Train accuracy: 0.3179, Test accuracy: 0.0000\n"
          ]
        },
        {
          "output_type": "stream",
          "name": "stderr",
          "text": [
            "\r 18%|█▊        | 7/40 [01:46<08:21, 15.19s/it]"
          ]
        },
        {
          "output_type": "stream",
          "name": "stdout",
          "text": [
            "[INFO] EPOCH: 7/40\n",
            "Train loss: 1.360071, Test loss: 1.2518\n",
            "Train accuracy: 0.3022, Test accuracy: 0.9476\n"
          ]
        },
        {
          "output_type": "stream",
          "name": "stderr",
          "text": [
            "\r 20%|██        | 8/40 [02:01<08:05, 15.17s/it]"
          ]
        },
        {
          "output_type": "stream",
          "name": "stdout",
          "text": [
            "[INFO] EPOCH: 8/40\n",
            "Train loss: 1.358444, Test loss: 1.2758\n",
            "Train accuracy: 0.3260, Test accuracy: 0.0000\n"
          ]
        },
        {
          "output_type": "stream",
          "name": "stderr",
          "text": [
            "\r 22%|██▎       | 9/40 [02:16<07:51, 15.21s/it]"
          ]
        },
        {
          "output_type": "stream",
          "name": "stdout",
          "text": [
            "[INFO] EPOCH: 9/40\n",
            "Train loss: 1.359328, Test loss: 1.3363\n",
            "Train accuracy: 0.3224, Test accuracy: 0.0000\n"
          ]
        },
        {
          "output_type": "stream",
          "name": "stderr",
          "text": [
            "\r 25%|██▌       | 10/40 [02:31<07:35, 15.17s/it]"
          ]
        },
        {
          "output_type": "stream",
          "name": "stdout",
          "text": [
            "[INFO] EPOCH: 10/40\n",
            "Train loss: 1.357852, Test loss: 1.3518\n",
            "Train accuracy: 0.3238, Test accuracy: 0.0000\n"
          ]
        },
        {
          "output_type": "stream",
          "name": "stderr",
          "text": [
            "\r 28%|██▊       | 11/40 [02:46<07:16, 15.05s/it]"
          ]
        },
        {
          "output_type": "stream",
          "name": "stdout",
          "text": [
            "[INFO] EPOCH: 11/40\n",
            "Train loss: 1.358698, Test loss: 1.3495\n",
            "Train accuracy: 0.3381, Test accuracy: 0.0000\n"
          ]
        },
        {
          "output_type": "stream",
          "name": "stderr",
          "text": [
            "\r 30%|███       | 12/40 [03:00<06:53, 14.77s/it]"
          ]
        },
        {
          "output_type": "stream",
          "name": "stdout",
          "text": [
            "[INFO] EPOCH: 12/40\n",
            "Train loss: 1.359049, Test loss: 1.2892\n",
            "Train accuracy: 0.3278, Test accuracy: 0.0040\n"
          ]
        },
        {
          "output_type": "stream",
          "name": "stderr",
          "text": [
            "\r 32%|███▎      | 13/40 [03:15<06:35, 14.67s/it]"
          ]
        },
        {
          "output_type": "stream",
          "name": "stdout",
          "text": [
            "[INFO] EPOCH: 13/40\n",
            "Train loss: 1.357802, Test loss: 1.2477\n",
            "Train accuracy: 0.3188, Test accuracy: 0.7177\n"
          ]
        },
        {
          "output_type": "stream",
          "name": "stderr",
          "text": [
            "\r 35%|███▌      | 14/40 [03:30<06:25, 14.82s/it]"
          ]
        },
        {
          "output_type": "stream",
          "name": "stdout",
          "text": [
            "[INFO] EPOCH: 14/40\n",
            "Train loss: 1.358748, Test loss: 1.2906\n",
            "Train accuracy: 0.3193, Test accuracy: 0.0040\n"
          ]
        },
        {
          "output_type": "stream",
          "name": "stderr",
          "text": [
            "\r 38%|███▊      | 15/40 [03:45<06:13, 14.93s/it]"
          ]
        },
        {
          "output_type": "stream",
          "name": "stdout",
          "text": [
            "[INFO] EPOCH: 15/40\n",
            "Train loss: 1.358698, Test loss: 1.3326\n",
            "Train accuracy: 0.3251, Test accuracy: 0.0000\n"
          ]
        },
        {
          "output_type": "stream",
          "name": "stderr",
          "text": [
            "\r 40%|████      | 16/40 [04:00<06:02, 15.09s/it]"
          ]
        },
        {
          "output_type": "stream",
          "name": "stdout",
          "text": [
            "[INFO] EPOCH: 16/40\n",
            "Train loss: 1.358207, Test loss: 1.3140\n",
            "Train accuracy: 0.3193, Test accuracy: 0.0121\n"
          ]
        },
        {
          "output_type": "stream",
          "name": "stderr",
          "text": [
            "\r 42%|████▎     | 17/40 [04:15<05:46, 15.05s/it]"
          ]
        },
        {
          "output_type": "stream",
          "name": "stdout",
          "text": [
            "[INFO] EPOCH: 17/40\n",
            "Train loss: 1.358304, Test loss: 1.2917\n",
            "Train accuracy: 0.3251, Test accuracy: 0.0000\n"
          ]
        },
        {
          "output_type": "stream",
          "name": "stderr",
          "text": [
            "\r 45%|████▌     | 18/40 [04:30<05:31, 15.05s/it]"
          ]
        },
        {
          "output_type": "stream",
          "name": "stdout",
          "text": [
            "[INFO] EPOCH: 18/40\n",
            "Train loss: 1.357980, Test loss: 1.2310\n",
            "Train accuracy: 0.3233, Test accuracy: 0.9718\n"
          ]
        },
        {
          "output_type": "stream",
          "name": "stderr",
          "text": [
            "\r 48%|████▊     | 19/40 [04:45<05:11, 14.81s/it]"
          ]
        },
        {
          "output_type": "stream",
          "name": "stdout",
          "text": [
            "[INFO] EPOCH: 19/40\n",
            "Train loss: 1.358673, Test loss: 1.3187\n",
            "Train accuracy: 0.3211, Test accuracy: 0.0000\n"
          ]
        },
        {
          "output_type": "stream",
          "name": "stderr",
          "text": [
            "\r 50%|█████     | 20/40 [04:59<04:55, 14.78s/it]"
          ]
        },
        {
          "output_type": "stream",
          "name": "stdout",
          "text": [
            "[INFO] EPOCH: 20/40\n",
            "Train loss: 1.358192, Test loss: 1.2645\n",
            "Train accuracy: 0.3314, Test accuracy: 0.3185\n"
          ]
        },
        {
          "output_type": "stream",
          "name": "stderr",
          "text": [
            "\r 52%|█████▎    | 21/40 [05:14<04:40, 14.76s/it]"
          ]
        },
        {
          "output_type": "stream",
          "name": "stdout",
          "text": [
            "[INFO] EPOCH: 21/40\n",
            "Train loss: 1.358448, Test loss: 1.3194\n",
            "Train accuracy: 0.3139, Test accuracy: 0.0000\n"
          ]
        },
        {
          "output_type": "stream",
          "name": "stderr",
          "text": [
            "\r 55%|█████▌    | 22/40 [05:30<04:29, 14.97s/it]"
          ]
        },
        {
          "output_type": "stream",
          "name": "stdout",
          "text": [
            "[INFO] EPOCH: 22/40\n",
            "Train loss: 1.357808, Test loss: 1.3374\n",
            "Train accuracy: 0.3318, Test accuracy: 0.0000\n"
          ]
        },
        {
          "output_type": "stream",
          "name": "stderr",
          "text": [
            "\r 57%|█████▊    | 23/40 [05:45<04:15, 15.05s/it]"
          ]
        },
        {
          "output_type": "stream",
          "name": "stdout",
          "text": [
            "[INFO] EPOCH: 23/40\n",
            "Train loss: 1.358210, Test loss: 1.2588\n",
            "Train accuracy: 0.3179, Test accuracy: 0.1290\n"
          ]
        },
        {
          "output_type": "stream",
          "name": "stderr",
          "text": [
            "\r 60%|██████    | 24/40 [06:00<04:00, 15.00s/it]"
          ]
        },
        {
          "output_type": "stream",
          "name": "stdout",
          "text": [
            "[INFO] EPOCH: 24/40\n",
            "Train loss: 1.358519, Test loss: 1.3480\n",
            "Train accuracy: 0.3260, Test accuracy: 0.0000\n"
          ]
        },
        {
          "output_type": "stream",
          "name": "stderr",
          "text": [
            "\r 62%|██████▎   | 25/40 [06:14<03:44, 14.96s/it]"
          ]
        },
        {
          "output_type": "stream",
          "name": "stdout",
          "text": [
            "[INFO] EPOCH: 25/40\n",
            "Train loss: 1.358484, Test loss: 1.2790\n",
            "Train accuracy: 0.3282, Test accuracy: 0.8790\n"
          ]
        },
        {
          "output_type": "stream",
          "name": "stderr",
          "text": [
            "\r 65%|██████▌   | 26/40 [06:29<03:27, 14.82s/it]"
          ]
        },
        {
          "output_type": "stream",
          "name": "stdout",
          "text": [
            "[INFO] EPOCH: 26/40\n",
            "Train loss: 1.357794, Test loss: 1.2840\n",
            "Train accuracy: 0.3386, Test accuracy: 0.1008\n"
          ]
        },
        {
          "output_type": "stream",
          "name": "stderr",
          "text": [
            "\r 68%|██████▊   | 27/40 [06:43<03:10, 14.67s/it]"
          ]
        },
        {
          "output_type": "stream",
          "name": "stdout",
          "text": [
            "[INFO] EPOCH: 27/40\n",
            "Train loss: 1.359040, Test loss: 1.2798\n",
            "Train accuracy: 0.3282, Test accuracy: 0.1210\n"
          ]
        },
        {
          "output_type": "stream",
          "name": "stderr",
          "text": [
            "\r 70%|███████   | 28/40 [06:58<02:56, 14.67s/it]"
          ]
        },
        {
          "output_type": "stream",
          "name": "stdout",
          "text": [
            "[INFO] EPOCH: 28/40\n",
            "Train loss: 1.358890, Test loss: 1.2943\n",
            "Train accuracy: 0.3139, Test accuracy: 0.3185\n"
          ]
        },
        {
          "output_type": "stream",
          "name": "stderr",
          "text": [
            "\r 72%|███████▎  | 29/40 [07:13<02:42, 14.80s/it]"
          ]
        },
        {
          "output_type": "stream",
          "name": "stdout",
          "text": [
            "[INFO] EPOCH: 29/40\n",
            "Train loss: 1.358091, Test loss: 1.2621\n",
            "Train accuracy: 0.3256, Test accuracy: 0.9476\n"
          ]
        },
        {
          "output_type": "stream",
          "name": "stderr",
          "text": [
            "\r 75%|███████▌  | 30/40 [07:28<02:29, 14.93s/it]"
          ]
        },
        {
          "output_type": "stream",
          "name": "stdout",
          "text": [
            "[INFO] EPOCH: 30/40\n",
            "Train loss: 1.358375, Test loss: 1.2585\n",
            "Train accuracy: 0.3291, Test accuracy: 0.6895\n"
          ]
        },
        {
          "output_type": "stream",
          "name": "stderr",
          "text": [
            "\r 78%|███████▊  | 31/40 [07:43<02:14, 14.90s/it]"
          ]
        },
        {
          "output_type": "stream",
          "name": "stdout",
          "text": [
            "[INFO] EPOCH: 31/40\n",
            "Train loss: 1.358769, Test loss: 1.3038\n",
            "Train accuracy: 0.3215, Test accuracy: 0.0000\n"
          ]
        },
        {
          "output_type": "stream",
          "name": "stderr",
          "text": [
            "\r 80%|████████  | 32/40 [07:58<01:59, 14.90s/it]"
          ]
        },
        {
          "output_type": "stream",
          "name": "stdout",
          "text": [
            "[INFO] EPOCH: 32/40\n",
            "Train loss: 1.357736, Test loss: 1.2949\n",
            "Train accuracy: 0.3170, Test accuracy: 0.0081\n"
          ]
        },
        {
          "output_type": "stream",
          "name": "stderr",
          "text": [
            "\r 82%|████████▎ | 33/40 [08:13<01:44, 14.88s/it]"
          ]
        },
        {
          "output_type": "stream",
          "name": "stdout",
          "text": [
            "[INFO] EPOCH: 33/40\n",
            "Train loss: 1.358902, Test loss: 1.3427\n",
            "Train accuracy: 0.3296, Test accuracy: 0.0000\n"
          ]
        },
        {
          "output_type": "stream",
          "name": "stderr",
          "text": [
            "\r 85%|████████▌ | 34/40 [08:27<01:27, 14.62s/it]"
          ]
        },
        {
          "output_type": "stream",
          "name": "stdout",
          "text": [
            "[INFO] EPOCH: 34/40\n",
            "Train loss: 1.359099, Test loss: 1.3300\n",
            "Train accuracy: 0.3273, Test accuracy: 0.0000\n"
          ]
        },
        {
          "output_type": "stream",
          "name": "stderr",
          "text": [
            "\r 88%|████████▊ | 35/40 [08:41<01:12, 14.58s/it]"
          ]
        },
        {
          "output_type": "stream",
          "name": "stdout",
          "text": [
            "[INFO] EPOCH: 35/40\n",
            "Train loss: 1.358587, Test loss: 1.2591\n",
            "Train accuracy: 0.3359, Test accuracy: 0.8105\n"
          ]
        },
        {
          "output_type": "stream",
          "name": "stderr",
          "text": [
            "\r 90%|█████████ | 36/40 [08:56<00:58, 14.60s/it]"
          ]
        },
        {
          "output_type": "stream",
          "name": "stdout",
          "text": [
            "[INFO] EPOCH: 36/40\n",
            "Train loss: 1.357786, Test loss: 1.3115\n",
            "Train accuracy: 0.3314, Test accuracy: 0.0081\n"
          ]
        },
        {
          "output_type": "stream",
          "name": "stderr",
          "text": [
            "\r 92%|█████████▎| 37/40 [09:11<00:44, 14.77s/it]"
          ]
        },
        {
          "output_type": "stream",
          "name": "stdout",
          "text": [
            "[INFO] EPOCH: 37/40\n",
            "Train loss: 1.358388, Test loss: 1.3392\n",
            "Train accuracy: 0.3157, Test accuracy: 0.0000\n"
          ]
        },
        {
          "output_type": "stream",
          "name": "stderr",
          "text": [
            "\r 95%|█████████▌| 38/40 [09:26<00:29, 14.90s/it]"
          ]
        },
        {
          "output_type": "stream",
          "name": "stdout",
          "text": [
            "[INFO] EPOCH: 38/40\n",
            "Train loss: 1.357620, Test loss: 1.3516\n",
            "Train accuracy: 0.3354, Test accuracy: 0.0000\n"
          ]
        },
        {
          "output_type": "stream",
          "name": "stderr",
          "text": [
            "\r 98%|█████████▊| 39/40 [09:42<00:15, 15.00s/it]"
          ]
        },
        {
          "output_type": "stream",
          "name": "stdout",
          "text": [
            "[INFO] EPOCH: 39/40\n",
            "Train loss: 1.359122, Test loss: 1.3229\n",
            "Train accuracy: 0.3300, Test accuracy: 0.0000\n"
          ]
        },
        {
          "output_type": "stream",
          "name": "stderr",
          "text": [
            "100%|██████████| 40/40 [09:57<00:00, 14.93s/it]"
          ]
        },
        {
          "output_type": "stream",
          "name": "stdout",
          "text": [
            "[INFO] EPOCH: 40/40\n",
            "Train loss: 1.357728, Test loss: 1.3138\n",
            "Train accuracy: 0.3278, Test accuracy: 0.0121\n",
            "Time taken to train the model: 597.18s\n"
          ]
        },
        {
          "output_type": "stream",
          "name": "stderr",
          "text": [
            "\n"
          ]
        },
        {
          "output_type": "execute_result",
          "data": {
            "text/plain": [
              "<matplotlib.legend.Legend at 0x7ee9e016b580>"
            ]
          },
          "metadata": {},
          "execution_count": 29
        },
        {
          "output_type": "display_data",
          "data": {
            "text/plain": [
              "<Figure size 640x480 with 1 Axes>"
            ],
            "image/png": "[encoded data removed]"
          },
          "metadata": {}
        }
      ]
    },
    {
      "cell_type": "code",
      "source": [
        "# Define the path to the saved model state\n",
        "saved_model_state_path = '/content/drive/MyDrive/MLProjectData/unet_best_model.pth'\n",
        "\n",
        "# Initialize your UNet model\n",
        "unet2 = UNet().to(Configuration.device)\n",
        "\n",
        "# Load the saved model state\n",
        "unet2.load_state_dict(torch.load(saved_model_state_path))\n",
        "\n",
        "# Make sure to switch to evaluation mode\n",
        "unet2.eval()"
      ],
      "metadata": {
        "id": "Ckh4gzq0R6Jn"
      },
      "execution_count": null,
      "outputs": []
    },
    {
      "cell_type": "code",
      "source": [
        "def make_predictions(model, image_path, classLabels):\n",
        "    model.load_state_dict(torch.load(best_model_path))\n",
        "    model.eval()\n",
        "\n",
        "    # turn off gradient tracking\n",
        "    with torch.no_grad():\n",
        "        # load the image from disk, swap its color channels\n",
        "        image = cv2.imread(imagePath)\n",
        "        image = cv2.resize(image, (configuration.INPUT_IMAGE_WIDTH, configuration.INPUT_IMAGE_HEIGHT))\n",
        "        image = image.astype(\"float32\") / 255.0\n",
        "\n",
        "        # make the channel axis to be the leading one, add a batch\n",
        "        # dimension, create a PyTorch tensor, and flash it to the\n",
        "        # current device\n",
        "        image = np.transpose(image, (2, 0, 1))\n",
        "        image = np.expand_dims(image, 0)\n",
        "        image = torch.from_numpy(image).to(Configuration.device)\n",
        "\n",
        "        # make the prediction and retrieve the index of the highest\n",
        "        # score to find the predicted class label\n",
        "        outputs = model(image)\n",
        "        _, preds = torch.max(outputs, 1)\n",
        "        predictedClass = preds.cpu().numpy()[0]\n",
        "\n",
        "    # return the original image and the predicted class label\n",
        "    return image, classLabels[predictedClass]\n"
      ],
      "metadata": {
        "id": "I7VEh1dBQgAa"
      },
      "execution_count": 30,
      "outputs": []
    },
    {
      "cell_type": "code",
      "source": [
        "import pandas as pd\n",
        "\n",
        "# Assuming `testImages` is a list of file paths in your test set\n",
        "# and `classLabels` is a list or dict mapping class indices to class names\n",
        "\n",
        "# Initialize a list to store image names and predicted class names\n",
        "predictions = []\n",
        "\n",
        "# Loop over the test images\n",
        "for imagePath in kaggle_image_paths:\n",
        "    # Extract the image file name\n",
        "    imageFileName = imagePath.split(os.path.sep)[-1]\n",
        "\n",
        "    # Make a prediction using the model\n",
        "    _, predictedClass = make_predictions(unet2, imagePath, classes)\n",
        "\n",
        "    # Store the result\n",
        "    predictions.append([imageFileName, predictedClass])\n",
        "\n",
        "# Convert the predictions to a DataFrame\n",
        "predictions_df = pd.DataFrame(predictions, columns=['ID', 'prediction'])\n",
        "\n",
        "# Save the predictions to a CSV file\n",
        "predictions_csv_path = '/content/drive/MyDrive/MLProjectData/predictions2.csv'\n",
        "predictions_df.to_csv(predictions_csv_path, index=False)\n",
        "\n",
        "print(f\"Predictions saved to {predictions_csv_path}\")\n"
      ],
      "metadata": {
        "colab": {
          "base_uri": "https://localhost:8080/"
        },
        "id": "wnPqjEy7NJRs",
        "outputId": "b3de627a-fdc8-4428-dbf0-5106c0f02684"
      },
      "execution_count": 31,
      "outputs": [
        {
          "output_type": "stream",
          "name": "stdout",
          "text": [
            "Predictions saved to /content/drive/MyDrive/MLProjectData/predictions2.csv\n"
          ]
        }
      ]
    },
    {
      "cell_type": "code",
      "source": [],
      "metadata": {
        "id": "QI3r301KLZW4"
      },
      "execution_count": null,
      "outputs": []
    }
  ]
}