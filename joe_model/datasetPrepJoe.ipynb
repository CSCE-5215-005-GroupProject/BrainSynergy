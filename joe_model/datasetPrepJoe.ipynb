{
 "cells": [
  {
   "cell_type": "code",
   "execution_count": 1,
   "metadata": {},
   "outputs": [],
   "source": [
    "import os\n",
    "\n",
    "# Base directory for all data related to Joe's work\n",
    "base_dir = 'JoeData'\n",
    "os.makedirs(base_dir, exist_ok=True)\n",
    "\n",
    "# Subdirectories for GAN and Classifier data\n",
    "gan_data_dir = os.path.join(base_dir, 'GAN_Training')\n",
    "classifier_train_dir = os.path.join(base_dir, 'Classifier_Training')\n",
    "classifier_test_dir = os.path.join(base_dir, 'Classifier_Testing')\n",
    "\n",
    "# Create the directories\n",
    "os.makedirs(gan_data_dir, exist_ok=True)\n",
    "os.makedirs(classifier_train_dir, exist_ok=True)\n",
    "os.makedirs(classifier_test_dir, exist_ok=True)"
   ]
  },
  {
   "cell_type": "code",
   "execution_count": 2,
   "metadata": {},
   "outputs": [
    {
     "name": "stdout",
     "output_type": "stream",
     "text": [
      "Path to competition_data: f:\\Grad_School\\CSCE_5215\\GroupProject\\Git\\BrainSynergy\\data\\competition_data\n",
      "The competition_data directory was found.\n"
     ]
    }
   ],
   "source": [
    "# Define the path to the 'competition_data' directory\n",
    "competition_data_dir = os.path.join(os.path.dirname(os.getcwd()), 'data', 'competition_data')\n",
    "\n",
    "# Verify the path\n",
    "print(\"Path to competition_data:\", competition_data_dir)\n",
    "if not os.path.exists(competition_data_dir):\n",
    "    print(\"The competition_data directory does not exist!\")\n",
    "else:\n",
    "    print(\"The competition_data directory was found.\")"
   ]
  },
  {
   "cell_type": "markdown",
   "metadata": {},
   "source": [
    "**Data Plan**\n",
    "* Step 1: Reserve Anonymous Kaggle Test Set\n",
    "• 20% of 3,096 total images: 619 images (Reserved for Kaggle competition)\n",
    "* Step 2: Remaining Dataset\n",
    "• 80% of 3,096 total images: 2,477 images (For our GAN and classifier)\n",
    "* Step 3: GAN Training Subset\n",
    "• 70% of 2,477: 1,732 images\n",
    "• After a single horizontal flip: 3,464 images for GAN training\n",
    "* Step 4: Classifier Training + Testing\n",
    "• 30% of 2,477: 743 images\n",
    "Training: 80% of 743 = 594 images\n",
    "Testing: 20% of 743 = 149 images\n",
    "\n",
    "**Summary**\n",
    "* Anonymous Kaggle Test Set: 619 images\n",
    "* GAN Training: 3,468 images (after a single data augmentation)\n",
    "* Classifier Training: 594 images\n",
    "* Classifier Testing: 149 images"
   ]
  },
  {
   "cell_type": "code",
   "execution_count": 3,
   "metadata": {},
   "outputs": [],
   "source": [
    "from sklearn.model_selection import train_test_split\n",
    "import shutil\n",
    "\n",
    "\n",
    "# Initialize data structure holding all classes\n",
    "data = {\n",
    "    'glioma_tumor': [],\n",
    "    'meningioma_tumor': [],\n",
    "    'pituitary_tumor': [],\n",
    "    'normal': []\n",
    "}\n",
    "\n",
    "# Load data and labels\n",
    "image_paths = []\n",
    "labels = []\n",
    "\n",
    "# Correctly use os.path.join to create the full path\n",
    "for label in data.keys():\n",
    "    class_dir = os.path.join(competition_data_dir, label)\n",
    "    if os.path.exists(class_dir):\n",
    "        # Get all images in the source folder and update the labels list\n",
    "        images = os.listdir(class_dir)\n",
    "        image_paths += [os.path.join(class_dir, image) for image in images]\n",
    "        labels += [label] * len(images)\n",
    "    else:\n",
    "        print(f\"Directory not found: {class_dir}\")\n",
    "\n",
    "# Split data for GAN and classifier with stratification\n",
    "# 70% for GAN training; remaining for classifier\n",
    "gan_images, classifier_images, gan_labels, classifier_labels = train_test_split(\n",
    "    image_paths, labels, test_size=0.3, stratify=labels, random_state=42\n",
    ")\n",
    "\n",
    "# Further split classifier images into training and testing with stratification\n",
    "# 80% of remaining data for classifier training, 20% for classifier testing\n",
    "classifier_train, classifier_test, classifier_train_labels, classifier_test_labels = train_test_split(\n",
    "    classifier_images, classifier_labels, test_size=0.2, stratify=classifier_labels, random_state=42\n",
    ")\n",
    "\n",
    "# Now you can move the files to their respective directories\n",
    "for img_path in gan_images:\n",
    "    # Determine the new path based on the current gan_data_dir\n",
    "    new_path = os.path.join(gan_data_dir, os.path.basename(img_path))\n",
    "    shutil.copy(img_path, new_path)\n",
    "\n",
    "for img_path in classifier_train:\n",
    "    # Determine the new path based on the current classifier_train_dir\n",
    "    new_path = os.path.join(classifier_train_dir, os.path.basename(img_path))\n",
    "    shutil.copy(img_path, new_path)\n",
    "\n",
    "for img_path in classifier_test:\n",
    "    # Determine the new path based on the current classifier_test_dir\n",
    "    new_path = os.path.join(classifier_test_dir, os.path.basename(img_path))\n",
    "    shutil.copy(img_path, new_path)"
   ]
  },
  {
   "cell_type": "code",
   "execution_count": 4,
   "metadata": {},
   "outputs": [
    {
     "name": "stdout",
     "output_type": "stream",
     "text": [
      "Verification passed: JoeData\\GAN_Training contains 1732 images as expected.\n",
      "Verification passed: JoeData\\Classifier_Training contains 594 images as expected.\n",
      "Verification passed: JoeData\\Classifier_Testing contains 149 images as expected.\n"
     ]
    }
   ],
   "source": [
    "# Test to verify correct number of images in each directory\n",
    "def verify_image_counts(directory, expected_count):\n",
    "    # Get the list of all files in the directory\n",
    "    images = [img for img in os.listdir(directory) if img.endswith(('.png', '.jpg', '.jpeg'))]\n",
    "    actual_count = len(images)\n",
    "    # Check if the actual count matches the expected count\n",
    "    if actual_count == expected_count:\n",
    "        print(f\"Verification passed: {directory} contains {actual_count} images as expected.\")\n",
    "    else:\n",
    "        print(f\"Verification failed: {directory} contains {actual_count} images, but expected {expected_count}.\")\n",
    "\n",
    "# Verify each directory given data plan\n",
    "verify_image_counts(gan_data_dir, 1732)  \n",
    "verify_image_counts(classifier_train_dir, 594)\n",
    "verify_image_counts(classifier_test_dir, 149)\n"
   ]
  },
  {
   "cell_type": "code",
   "execution_count": 5,
   "metadata": {},
   "outputs": [],
   "source": [
    "# Function to clear directories\n",
    "def clear_directory(directory):\n",
    "    for filename in os.listdir(directory):\n",
    "        file_path = os.path.join(directory, filename)\n",
    "        try:\n",
    "            if os.path.isfile(file_path) or os.path.islink(file_path):\n",
    "                os.unlink(file_path)\n",
    "            elif os.path.isdir(file_path):\n",
    "                shutil.rmtree(file_path)\n",
    "        except Exception as e:\n",
    "            print('Failed to delete %s. Reason: %s' % (file_path, e))\n",
    "\n",
    "# Function calls below for testing code \n",
    "# clear_directory(gan_data_dir)\n",
    "# clear_directory(classifier_train_dir)\n",
    "# clear_directory(classifier_test_dir)"
   ]
  },
  {
   "cell_type": "code",
   "execution_count": 6,
   "metadata": {},
   "outputs": [],
   "source": [
    "from PIL import Image\n",
    "\n",
    "# Function to perform augmentation (horizontal flip here)\n",
    "def augment_data(image_paths, save_dir, suffix='_f'):\n",
    "    for img_path in image_paths:\n",
    "        img = Image.open(img_path)\n",
    "        flipped_img = img.transpose(Image.FLIP_LEFT_RIGHT)\n",
    "\n",
    "        # Split filename and extension\n",
    "        base, extension = os.path.splitext(os.path.basename(img_path))\n",
    "        # Create new file name with suffix before the extension\n",
    "        new_name = f\"{base}{suffix}{extension}\"\n",
    "\n",
    "        # Save flipped image with newly created filename\n",
    "        flipped_img.save(os.path.join(save_dir, new_name))\n",
    "\n",
    "# Augment GAN data effectively doubling it to 3,468 examples\n",
    "augment_data(gan_images, gan_data_dir)"
   ]
  },
  {
   "cell_type": "code",
   "execution_count": 7,
   "metadata": {},
   "outputs": [
    {
     "name": "stdout",
     "output_type": "stream",
     "text": [
      "Verification passed: JoeData\\GAN_Training contains 3464 images as expected.\n",
      "Verification passed: JoeData\\Classifier_Training contains 594 images as expected.\n",
      "Verification passed: JoeData\\Classifier_Testing contains 149 images as expected.\n"
     ]
    }
   ],
   "source": [
    "# Verify each directory given data plan after data augmentation\n",
    "verify_image_counts(gan_data_dir, 3464)  \n",
    "verify_image_counts(classifier_train_dir, 594)\n",
    "verify_image_counts(classifier_test_dir, 149)"
   ]
  }
 ],
 "metadata": {
  "kernelspec": {
   "display_name": "ML_test",
   "language": "python",
   "name": "python3"
  },
  "language_info": {
   "codemirror_mode": {
    "name": "ipython",
    "version": 3
   },
   "file_extension": ".py",
   "mimetype": "text/x-python",
   "name": "python",
   "nbconvert_exporter": "python",
   "pygments_lexer": "ipython3",
   "version": "3.11.5"
  }
 },
 "nbformat": 4,
 "nbformat_minor": 2
}
